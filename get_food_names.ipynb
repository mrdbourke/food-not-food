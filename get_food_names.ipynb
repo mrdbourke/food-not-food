{
 "cells": [
  {
   "cell_type": "markdown",
   "metadata": {},
   "source": [
    "# Get food names from NLTK\n",
    "\n",
    "Gets a list of food names from NLTK wordnet and saves to file.\n",
    "\n",
    "* Function to leverage NLTK word names - https://stackoverflow.com/questions/57057039/how-to-extract-all-words-in-a-noun-food-category-in-wordnet\n",
    "* Downloading a list of many different words - https://raw.githubusercontent.com/AllenDowney/ThinkPython2/master/code/words.txt "
   ]
  },
  {
   "cell_type": "code",
   "execution_count": 1,
   "metadata": {},
   "outputs": [],
   "source": [
    "# Download list of words\n",
    "import requests\n",
    "import os\n",
    "\n",
    "def download_file(url, filename):\n",
    "    try:\n",
    "        if not os.path.exists(filename):\n",
    "            with open(filename, \"wb\") as f:\n",
    "                response = requests.get(url, stream=True)\n",
    "                response.raise_for_status() \n",
    "                # Write data to file\n",
    "                for block in response.iter_content(chunk_size=4096):\n",
    "                    f.write(block)\n",
    "    except:\n",
    "        print(f\"Exiting... {filename} already exists.\")\n"
   ]
  },
  {
   "cell_type": "code",
   "execution_count": 2,
   "metadata": {},
   "outputs": [],
   "source": [
    "download_file(\"https://raw.githubusercontent.com/AllenDowney/ThinkPython2/master/code/words.txt\",\n",
    "    filename=\"data/words.txt\"\n",
    ")"
   ]
  },
  {
   "cell_type": "markdown",
   "metadata": {},
   "source": [
    "## Filter words for foods and not foods\n",
    "\n",
    "Using code from Stack Overflow to filter for words that are nouns and *are* foods.\n",
    "\n",
    "The following function is adapted from: https://stackoverflow.com/a/57060039/7900723\n",
    "\n",
    "And: https://github.com/mrdbourke/food-not-food/issues/2"
   ]
  },
  {
   "cell_type": "code",
   "execution_count": 3,
   "metadata": {},
   "outputs": [
    {
     "name": "stderr",
     "output_type": "stream",
     "text": [
      "[nltk_data] Downloading package wordnet to /home/daniel/nltk_data...\n",
      "[nltk_data]   Package wordnet is already up-to-date!\n"
     ]
    }
   ],
   "source": [
    "# Using the NLTK WordNet dictionary check if the word is noun and a food.\n",
    "import nltk\n",
    "nltk.download('wordnet')\n",
    "from nltk.corpus import wordnet as wn"
   ]
  },
  {
   "cell_type": "code",
   "execution_count": 4,
   "metadata": {},
   "outputs": [
    {
     "data": {
      "text/plain": [
       "1"
      ]
     },
     "execution_count": 4,
     "metadata": {},
     "output_type": "execute_result"
    }
   ],
   "source": [
    "def food_not_food(word):\n",
    "    \"\"\"Returns 0 or 1 whether a string is a food noun or not.\n",
    "\n",
    "    Args:\n",
    "        word ([str]): target string to decide if it's a food word or not.\n",
    "\n",
    "    Returns:\n",
    "        [int]: 0 for not_food and 1 for food.\n",
    "\n",
    "    Example:\n",
    "        food_not_food(\"banana\")\n",
    "        >>> 1\n",
    "    \"\"\"\n",
    "    syns = wn.synsets(str(word), pos=wn.NOUN) \n",
    "    # List of forbidden noun types\n",
    "    forbidden = [\"artifact\", \"object\", \"animal\", \"person\"]\n",
    "    for syn in syns:\n",
    "        current_lex = syn.lexname().split(\".\")[-1]\n",
    "        # Check to see if lexname is in list of forbidden,\n",
    "        # if it is, return 0 for not_food.\n",
    "        if current_lex in forbidden:\n",
    "            return 0\n",
    "        else:\n",
    "            if \"food\" in syn.lexname():\n",
    "                return 1\n",
    "    return 0\n",
    "\n",
    "food_not_food(\"banana\")"
   ]
  },
  {
   "cell_type": "code",
   "execution_count": 5,
   "metadata": {},
   "outputs": [
    {
     "name": "stdout",
     "output_type": "stream",
     "text": [
      "Synset('gunman.n.01') noun.person\n",
      "Synset('bomber.n.03') noun.food\n",
      "Synset('torpedo.n.03') noun.artifact\n",
      "Synset('torpedo.n.04') noun.artifact\n",
      "Synset('torpedo.n.05') noun.artifact\n",
      "Synset('torpedo.n.06') noun.artifact\n",
      "Synset('electric_ray.n.01') noun.animal\n"
     ]
    }
   ],
   "source": [
    "syns = wn.synsets(str(\"torpedoes\"), pos=wn.NOUN)\n",
    "for syn in syns:\n",
    "    print(syn, syn.lexname())"
   ]
  },
  {
   "cell_type": "code",
   "execution_count": 6,
   "metadata": {},
   "outputs": [
    {
     "data": {
      "text/html": [
       "<div>\n",
       "<style scoped>\n",
       "    .dataframe tbody tr th:only-of-type {\n",
       "        vertical-align: middle;\n",
       "    }\n",
       "\n",
       "    .dataframe tbody tr th {\n",
       "        vertical-align: top;\n",
       "    }\n",
       "\n",
       "    .dataframe thead th {\n",
       "        text-align: right;\n",
       "    }\n",
       "</style>\n",
       "<table border=\"1\" class=\"dataframe\">\n",
       "  <thead>\n",
       "    <tr style=\"text-align: right;\">\n",
       "      <th></th>\n",
       "      <th>word</th>\n",
       "    </tr>\n",
       "  </thead>\n",
       "  <tbody>\n",
       "    <tr>\n",
       "      <th>0</th>\n",
       "      <td>aa</td>\n",
       "    </tr>\n",
       "    <tr>\n",
       "      <th>1</th>\n",
       "      <td>aah</td>\n",
       "    </tr>\n",
       "    <tr>\n",
       "      <th>2</th>\n",
       "      <td>aahed</td>\n",
       "    </tr>\n",
       "    <tr>\n",
       "      <th>3</th>\n",
       "      <td>aahing</td>\n",
       "    </tr>\n",
       "    <tr>\n",
       "      <th>4</th>\n",
       "      <td>aahs</td>\n",
       "    </tr>\n",
       "  </tbody>\n",
       "</table>\n",
       "</div>"
      ],
      "text/plain": [
       "     word\n",
       "0      aa\n",
       "1     aah\n",
       "2   aahed\n",
       "3  aahing\n",
       "4    aahs"
      ]
     },
     "execution_count": 6,
     "metadata": {},
     "output_type": "execute_result"
    }
   ],
   "source": [
    "# Import list of words\n",
    "import pandas as pd\n",
    "word_df = pd.read_csv(\"data/words.txt\", header=None)\n",
    "word_df.columns = [\"word\"]\n",
    "word_df.head()"
   ]
  },
  {
   "cell_type": "code",
   "execution_count": 7,
   "metadata": {},
   "outputs": [
    {
     "data": {
      "text/html": [
       "<div>\n",
       "<style scoped>\n",
       "    .dataframe tbody tr th:only-of-type {\n",
       "        vertical-align: middle;\n",
       "    }\n",
       "\n",
       "    .dataframe tbody tr th {\n",
       "        vertical-align: top;\n",
       "    }\n",
       "\n",
       "    .dataframe thead th {\n",
       "        text-align: right;\n",
       "    }\n",
       "</style>\n",
       "<table border=\"1\" class=\"dataframe\">\n",
       "  <thead>\n",
       "    <tr style=\"text-align: right;\">\n",
       "      <th></th>\n",
       "      <th>word</th>\n",
       "      <th>is_food</th>\n",
       "    </tr>\n",
       "  </thead>\n",
       "  <tbody>\n",
       "    <tr>\n",
       "      <th>0</th>\n",
       "      <td>aa</td>\n",
       "      <td>0</td>\n",
       "    </tr>\n",
       "    <tr>\n",
       "      <th>1</th>\n",
       "      <td>aah</td>\n",
       "      <td>0</td>\n",
       "    </tr>\n",
       "    <tr>\n",
       "      <th>2</th>\n",
       "      <td>aahed</td>\n",
       "      <td>0</td>\n",
       "    </tr>\n",
       "    <tr>\n",
       "      <th>3</th>\n",
       "      <td>aahing</td>\n",
       "      <td>0</td>\n",
       "    </tr>\n",
       "    <tr>\n",
       "      <th>4</th>\n",
       "      <td>aahs</td>\n",
       "      <td>0</td>\n",
       "    </tr>\n",
       "  </tbody>\n",
       "</table>\n",
       "</div>"
      ],
      "text/plain": [
       "     word  is_food\n",
       "0      aa        0\n",
       "1     aah        0\n",
       "2   aahed        0\n",
       "3  aahing        0\n",
       "4    aahs        0"
      ]
     },
     "execution_count": 7,
     "metadata": {},
     "output_type": "execute_result"
    }
   ],
   "source": [
    "# Create column if the word is a food and a noun\n",
    "word_df[\"is_food\"] = word_df[\"word\"].apply(food_not_food)\n",
    "word_df.head()"
   ]
  },
  {
   "cell_type": "code",
   "execution_count": 8,
   "metadata": {},
   "outputs": [
    {
     "data": {
      "text/plain": [
       "0    111715\n",
       "1      2068\n",
       "Name: is_food, dtype: int64"
      ]
     },
     "execution_count": 8,
     "metadata": {},
     "output_type": "execute_result"
    }
   ],
   "source": [
    "# How many foods and non-foods are there?\n",
    "word_df[\"is_food\"].value_counts()"
   ]
  },
  {
   "cell_type": "code",
   "execution_count": 9,
   "metadata": {},
   "outputs": [
    {
     "data": {
      "text/plain": [
       "['lichis',\n",
       " 'potato',\n",
       " 'dietaries',\n",
       " 'hamburgers',\n",
       " 'concoction',\n",
       " 'meatballs',\n",
       " 'goody',\n",
       " 'souchong',\n",
       " 'acetum',\n",
       " 'raspberry']"
      ]
     },
     "execution_count": 9,
     "metadata": {},
     "output_type": "execute_result"
    }
   ],
   "source": [
    "# View random samples of foods\n",
    "import random\n",
    "random.sample(word_df[word_df[\"is_food\"] == 1][\"word\"].tolist(), k=10)"
   ]
  },
  {
   "cell_type": "code",
   "execution_count": 10,
   "metadata": {},
   "outputs": [
    {
     "data": {
      "text/plain": [
       "['absinth',\n",
       " 'absinthe',\n",
       " 'absinthes',\n",
       " 'absinths',\n",
       " 'acerola',\n",
       " 'acerolas',\n",
       " 'acetum',\n",
       " 'afters',\n",
       " 'ail',\n",
       " 'ails']"
      ]
     },
     "execution_count": 10,
     "metadata": {},
     "output_type": "execute_result"
    }
   ],
   "source": [
    "# Export list of foods and non-foods to file\n",
    "food_list = word_df[word_df[\"is_food\"]==1][\"word\"].tolist()\n",
    "non_food_list = word_df[word_df[\"is_food\"]==0][\"word\"].tolist()\n",
    "food_list[:10]"
   ]
  },
  {
   "cell_type": "code",
   "execution_count": 11,
   "metadata": {},
   "outputs": [],
   "source": [
    "# Write lists to file\n",
    "def write_to_file(targ_file, targ_list):\n",
    "    with open(targ_file, \"w\") as f:\n",
    "        for element in targ_list:\n",
    "            f.write(str(element) + \"\\n\")"
   ]
  },
  {
   "cell_type": "code",
   "execution_count": 12,
   "metadata": {},
   "outputs": [],
   "source": [
    "write_to_file(targ_file=\"data/food_list.txt\", targ_list=food_list)\n",
    "write_to_file(targ_file=\"data/non_food_list.txt\", targ_list=non_food_list)"
   ]
  },
  {
   "cell_type": "markdown",
   "metadata": {},
   "source": [
    "This link may help looking into finding more food and non-food names (could find all food names that are related to the verb \"eat\"): https://stackoverflow.com/questions/30081982/get-noun-from-verb-wordnet"
   ]
  }
 ],
 "metadata": {
  "interpreter": {
   "hash": "31f2aee4e71d21fbe5cf8b01ff0e069b9275f58929596ceb00d14d90e3e16cd6"
  },
  "kernelspec": {
   "display_name": "Python 3.8.10 64-bit",
   "language": "python",
   "name": "python3"
  },
  "language_info": {
   "codemirror_mode": {
    "name": "ipython",
    "version": 3
   },
   "file_extension": ".py",
   "mimetype": "text/x-python",
   "name": "python",
   "nbconvert_exporter": "python",
   "pygments_lexer": "ipython3",
   "version": "3.9.7"
  },
  "orig_nbformat": 4
 },
 "nbformat": 4,
 "nbformat_minor": 2
}
