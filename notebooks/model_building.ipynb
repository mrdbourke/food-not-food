{
 "cells": [
  {
   "cell_type": "code",
   "execution_count": 17,
   "metadata": {},
   "outputs": [
    {
     "name": "stdout",
     "output_type": "stream",
     "text": [
      "--2021-11-06 15:20:34--  https://raw.githubusercontent.com/mrdbourke/tensorflow-deep-learning/main/extras/helper_functions.py\n",
      "Resolving raw.githubusercontent.com (raw.githubusercontent.com)... 185.199.108.133, 185.199.109.133, 185.199.110.133, ...\n",
      "Connecting to raw.githubusercontent.com (raw.githubusercontent.com)|185.199.108.133|:443... connected.\n",
      "HTTP request sent, awaiting response... 200 OK\n",
      "Length: 10246 (10K) [text/plain]\n",
      "Saving to: 'helper_functions.py.1’\n",
      "\n",
      "helper_functions.py 100%[===================>]  10.01K  --.-KB/s    in 0s      \n",
      "\n",
      "2021-11-06 15:20:34 (60.3 MB/s) - 'helper_functions.py.1’ saved [10246/10246]\n",
      "\n"
     ]
    }
   ],
   "source": [
    "# !pip install pydot\n",
    "# !pip install wandb\n",
    "\n",
    "# Import helper functions we're going to use\n",
    "from helper_functions import create_tensorboard_callback, plot_loss_curves, unzip_data, walk_through_dir"
   ]
  },
  {
   "cell_type": "code",
   "execution_count": 67,
   "metadata": {},
   "outputs": [
    {
     "data": {
      "text/html": [
       "Finishing last run (ID:1h3hqrfb) before initializing another..."
      ],
      "text/plain": [
       "<IPython.core.display.HTML object>"
      ]
     },
     "metadata": {},
     "output_type": "display_data"
    },
    {
     "data": {
      "text/html": [
       "<br/>Waiting for W&B process to finish, PID 341293... <strong style=\"color:green\">(success).</strong>"
      ],
      "text/plain": [
       "<IPython.core.display.HTML object>"
      ]
     },
     "metadata": {},
     "output_type": "display_data"
    },
    {
     "data": {
      "application/vnd.jupyter.widget-view+json": {
       "model_id": "64986dfbd1d84bbe8e12c4906ce087c9",
       "version_major": 2,
       "version_minor": 0
      },
      "text/plain": [
       "VBox(children=(Label(value=' 0.00MB of 0.00MB uploaded (0.00MB deduped)\\r'), FloatProgress(value=1.0, max=1.0)…"
      ]
     },
     "metadata": {},
     "output_type": "display_data"
    },
    {
     "data": {
      "text/html": [
       "<style>\n",
       "    table.wandb td:nth-child(1) { padding: 0 10px; text-align: right }\n",
       "    .wandb-row { display: flex; flex-direction: row; flex-wrap: wrap; width: 100% }\n",
       "    .wandb-col { display: flex; flex-direction: column; flex-basis: 100%; flex: 1; padding: 10px; }\n",
       "    </style>\n",
       "<div class=\"wandb-row\"><div class=\"wandb-col\">\n",
       "<h3>Run history:</h3><br/><table class=\"wandb\"><tr><td>global_step</td><td>▁▁▁▂▂▂▂▂▂▃▃▃▃▃▄▄▄▄▄▄▅▅▅▅▅▅▆▆▆▆▆▇▇▇▇▇▇▇██</td></tr><tr><td>train/epoch_accuracy</td><td>▁▄▆▇████████████████████████████████████</td></tr><tr><td>train/epoch_loss</td><td>█▆▅▄▃▃▂▂▂▂▂▂▁▁▁▁▁▁▁▁▁▁▁▁▁▁▁▁▁▁▁▁▁▁▁▁▁▁▁▁</td></tr><tr><td>train/global_step</td><td>▁▁▁▁▁▂▂▂▂▂▃▃▃▃▃▃▄▄▄▄▄▅▅▅▅▅▆▆▆▆▆▆▇▇▇▇▇███</td></tr><tr><td>validation/epoch_accuracy</td><td>▁▅▅▆▇███████████████████████████████████</td></tr><tr><td>validation/epoch_loss</td><td>█▇▆▅▄▃▃▃▂▂▂▂▂▂▂▁▁▁▁▁▁▁▁▁▁▁▁▁▁▁▁▁▁▁▁▁▁▁▁▁</td></tr><tr><td>validation/evaluation_accuracy_vs_iterations</td><td>▁▅▅▆▇███████████████████████████████████</td></tr><tr><td>validation/evaluation_loss_vs_iterations</td><td>█▇▆▅▄▃▃▃▂▂▂▂▂▂▂▁▁▁▁▁▁▁▁▁▁▁▁▁▁▁▁▁▁▁▁▁▁▁▁▁</td></tr><tr><td>validation/global_step</td><td>▁▁▁▁▂▂▃▃▂▂▂▂▄▄▄▅▂▂▂▂▆▆▆▆▃▃▃▃▇███▃▃▃▄▄▄▄▄</td></tr></table><br/></div><div class=\"wandb-col\">\n",
       "<h3>Run summary:</h3><br/><table class=\"wandb\"><tr><td>global_step</td><td>150</td></tr><tr><td>train/epoch_accuracy</td><td>1.0</td></tr><tr><td>train/epoch_loss</td><td>0.01448</td></tr><tr><td>train/global_step</td><td>49</td></tr><tr><td>validation/epoch_accuracy</td><td>1.0</td></tr><tr><td>validation/epoch_loss</td><td>0.06922</td></tr><tr><td>validation/evaluation_accuracy_vs_iterations</td><td>1.0</td></tr><tr><td>validation/evaluation_loss_vs_iterations</td><td>0.06922</td></tr><tr><td>validation/global_step</td><td>49</td></tr></table>\n",
       "</div></div>\n",
       "Synced 5 W&B file(s), 0 media file(s), 0 artifact file(s) and 2 other file(s)\n",
       "<br/>Synced <strong style=\"color:#cdcd00\">avid-glade-2</strong>: <a href=\"https://wandb.ai/mrdbourke/100k-livestream-video/runs/1h3hqrfb\" target=\"_blank\">https://wandb.ai/mrdbourke/100k-livestream-video/runs/1h3hqrfb</a><br/>\n",
       "Find logs at: <code>./wandb/run-20211106_132007-1h3hqrfb/logs</code><br/>\n"
      ],
      "text/plain": [
       "<IPython.core.display.HTML object>"
      ]
     },
     "metadata": {},
     "output_type": "display_data"
    },
    {
     "data": {
      "text/html": [
       "Successfully finished last run (ID:1h3hqrfb). Initializing new run:<br/>"
      ],
      "text/plain": [
       "<IPython.core.display.HTML object>"
      ]
     },
     "metadata": {},
     "output_type": "display_data"
    },
    {
     "name": "stderr",
     "output_type": "stream",
     "text": [
      "2021-11-06 13:42:22.402441: I tensorflow/stream_executor/platform/default/dso_loader.cc:53] Successfully opened dynamic library libcudart.so.11.0\n"
     ]
    },
    {
     "data": {
      "text/html": [
       "\n",
       "                    Syncing run <strong><a href=\"https://wandb.ai/mrdbourke/100k-livestream-video/runs/2nmxz253\" target=\"_blank\">smooth-wildflower-3</a></strong> to <a href=\"https://wandb.ai/mrdbourke/100k-livestream-video\" target=\"_blank\">Weights & Biases</a> (<a href=\"https://docs.wandb.com/integrations/jupyter.html\" target=\"_blank\">docs</a>).<br/>\n",
       "\n",
       "                "
      ],
      "text/plain": [
       "<IPython.core.display.HTML object>"
      ]
     },
     "metadata": {},
     "output_type": "display_data"
    },
    {
     "data": {
      "text/html": [
       "<button onClick=\"this.nextSibling.style.display='block';this.style.display='none';\">Display W&B run</button><iframe src=\"https://wandb.ai/mrdbourke/100k-livestream-video/runs/2nmxz253?jupyter=true\" style=\"border:none;width:100%;height:420px;display:none;\"></iframe>"
      ],
      "text/plain": [
       "<wandb.sdk.wandb_run.Run at 0x7f29b19942e0>"
      ]
     },
     "execution_count": 67,
     "metadata": {},
     "output_type": "execute_result"
    }
   ],
   "source": [
    "import wandb\n",
    "# wandb.tensorboard.patch(root_logdir=\"logs\")\n",
    "wandb.init(project=\"100k-livestream-video\", sync_tensorboard=True)"
   ]
  },
  {
   "cell_type": "code",
   "execution_count": 6,
   "metadata": {},
   "outputs": [],
   "source": [
    "import tensorflow as tf\n",
    "tf.get_logger().setLevel('INFO')"
   ]
  },
  {
   "cell_type": "code",
   "execution_count": 7,
   "metadata": {},
   "outputs": [
    {
     "data": {
      "text/plain": [
       "[PhysicalDevice(name='/physical_device:CPU:0', device_type='CPU'),\n",
       " PhysicalDevice(name='/physical_device:GPU:0', device_type='GPU')]"
      ]
     },
     "execution_count": 7,
     "metadata": {},
     "output_type": "execute_result"
    },
    {
     "name": "stderr",
     "output_type": "stream",
     "text": [
      "2021-11-06 13:23:17.170392: I tensorflow/stream_executor/platform/default/dso_loader.cc:53] Successfully opened dynamic library libcuda.so.1\n",
      "2021-11-06 13:23:17.229242: I tensorflow/stream_executor/cuda/cuda_gpu_executor.cc:937] successful NUMA node read from SysFS had negative value (-1), but there must be at least one NUMA node, so returning NUMA node zero\n",
      "2021-11-06 13:23:17.230300: I tensorflow/core/common_runtime/gpu/gpu_device.cc:1733] Found device 0 with properties: \n",
      "pciBusID: 0000:01:00.0 name: NVIDIA TITAN RTX computeCapability: 7.5\n",
      "coreClock: 1.77GHz coreCount: 72 deviceMemorySize: 23.65GiB deviceMemoryBandwidth: 625.94GiB/s\n",
      "2021-11-06 13:23:17.230340: I tensorflow/stream_executor/platform/default/dso_loader.cc:53] Successfully opened dynamic library libcudart.so.11.0\n",
      "2021-11-06 13:23:17.235141: I tensorflow/stream_executor/platform/default/dso_loader.cc:53] Successfully opened dynamic library libcublas.so.11\n",
      "2021-11-06 13:23:17.235208: I tensorflow/stream_executor/platform/default/dso_loader.cc:53] Successfully opened dynamic library libcublasLt.so.11\n",
      "2021-11-06 13:23:17.236432: I tensorflow/stream_executor/platform/default/dso_loader.cc:53] Successfully opened dynamic library libcufft.so.10\n",
      "2021-11-06 13:23:17.236731: I tensorflow/stream_executor/platform/default/dso_loader.cc:53] Successfully opened dynamic library libcurand.so.10\n",
      "2021-11-06 13:23:17.237543: I tensorflow/stream_executor/platform/default/dso_loader.cc:53] Successfully opened dynamic library libcusolver.so.11\n",
      "2021-11-06 13:23:17.238630: I tensorflow/stream_executor/platform/default/dso_loader.cc:53] Successfully opened dynamic library libcusparse.so.11\n",
      "2021-11-06 13:23:17.238800: I tensorflow/stream_executor/platform/default/dso_loader.cc:53] Successfully opened dynamic library libcudnn.so.8\n",
      "2021-11-06 13:23:17.238909: I tensorflow/stream_executor/cuda/cuda_gpu_executor.cc:937] successful NUMA node read from SysFS had negative value (-1), but there must be at least one NUMA node, so returning NUMA node zero\n",
      "2021-11-06 13:23:17.239485: I tensorflow/stream_executor/cuda/cuda_gpu_executor.cc:937] successful NUMA node read from SysFS had negative value (-1), but there must be at least one NUMA node, so returning NUMA node zero\n",
      "2021-11-06 13:23:17.239948: I tensorflow/core/common_runtime/gpu/gpu_device.cc:1871] Adding visible gpu devices: 0\n"
     ]
    }
   ],
   "source": [
    "tf.config.list_physical_devices()"
   ]
  },
  {
   "cell_type": "code",
   "execution_count": 8,
   "metadata": {},
   "outputs": [
    {
     "name": "stdout",
     "output_type": "stream",
     "text": [
      "aircraft  anvil\n"
     ]
    }
   ],
   "source": [
    "!ls data/model_test_images/"
   ]
  },
  {
   "cell_type": "markdown",
   "metadata": {},
   "source": [
    "## Create train/test "
   ]
  },
  {
   "cell_type": "code",
   "execution_count": 9,
   "metadata": {},
   "outputs": [],
   "source": [
    "!mkdir data/model_test_images/train\n",
    "!mkdir data/model_test_images/test"
   ]
  },
  {
   "cell_type": "code",
   "execution_count": 11,
   "metadata": {},
   "outputs": [
    {
     "name": "stdout",
     "output_type": "stream",
     "text": [
      "data/model_test_images/\n",
      "['anvil', 'test', 'train', 'aircraft']\n",
      "[]\n",
      "data/model_test_images/anvil\n",
      "[]\n",
      "['3251790162_6dfc166898.jpg', '3512257450_34820370e2.jpg', '2069586554_8ae6c5fc09.jpg', '3537119187_df9c44bd4a.jpg', '2765485150_787ea042e1.jpg', '2778636595_1302276129.jpg', '1807878315_a8df265920.jpg', '117452305_6ba7294262.jpg', '3050858024_489c44b578.jpg', '3867602114_8ba41b2b37.jpg', '2226730158_7968f2b239.jpg', '172718273_d721cf4c9b.jpg', '73574493_4f91b7dff6.jpg', '3234513465_0bd70c8849.jpg', '2041031103_25906d861e.jpg', '2680379787_232709eb59.jpg', '4434981477_8bd4bdd4c0.jpg', '3415989650_e35121d39f.jpg', '1464389357_01db275586.jpg', '4269925415_0ed3db3e8a.jpg', '3470217641_7198ce17f0.jpg', '4367666033_1597eee3b3.jpg', '3402428238_130149e13f.jpg', '3590331606_4a961f863c.jpg', '4112331467_7e4b4fe4d7.jpg', '1927370243_95da31ab75.jpg', '4391092884_447bf48519.jpg', '3321337159_de560b7d86.jpg', '4434981387_b97f308b38.jpg', '3536490876_c32efa76e7.jpg', '3209446309_36955f4185.jpg', '92992402_6991cf79f6.jpg', '539009801_403f543d10.jpg', '1685224938_22ef3ed143.jpg', '538892640_7abb612b68.jpg', '153584514_dc55440503.jpg', '3486303210_e2885b5c2a.jpg', '90659615_70a0040893.jpg', '1352607644_67160c3519.jpg', '4218281819_de2945013f.jpg', '1761887710_b848e69ca0.jpg', '2190538359_58be175358.jpg', '4351966670_af07ca701c.jpg', '2976981773_eca0938f44.jpg', '2663589625_87802c0cb1.jpg', '3827473308_a3774a8248.jpg', '3645593933_5a8e7e21b9.jpg', '2653043238_ab3fb1ab4b.jpg', '4388451586_f8934b2525.jpg', '1114969084_812849be3c.jpg', '4014498287_5233704eed.jpg', '2205263725_42f1679502.jpg', '2688352675_773e74672f.jpg', '3439372727_6a1192fb5f.jpg', '2869155460_ebaf708e05.jpg', '2315018233_4735c48154.jpg']\n",
      "data/model_test_images/test\n",
      "[]\n",
      "[]\n",
      "data/model_test_images/train\n",
      "[]\n",
      "[]\n",
      "data/model_test_images/aircraft\n",
      "[]\n",
      "['1171097807_dc33da63c9.jpg', '2198384480_ecaaf216b3.jpg', '2694271500_950340d61f.jpg', '49517128_dbfd6ca176.jpg', '2542501551_9a9dd54811.jpg', '375843063_871a7a6459.jpg', '1715062941_29085b27d4.jpg', '1171059083_4fe67268da.jpg', '473919967_67f5d208ef.jpg', '2198383298_746951ac64.jpg', '2542538183_828626940e.jpg', '2453145003_f03c80cccb.jpg', '2257546470_c70143c0a5.jpg', '2298503863_1e3b24719b.jpg', '417566635_abe4a920b5.jpg', '1170999037_018ad7f464.jpg', '108928477_9d0370f712.jpg', '1620665374_95c7f0a16e.jpg', '399456498_e98b61e031.jpg', '367863038_12d6abe51d.jpg', '161310937_ec0d9ee7f0.jpg', '2191549173_4029490817.jpg', '2367391512_9dc00fcaa7.jpg', '472323417_b90347d905.jpg', '1204109417_1da972f127.jpg', '1862453011_f8ab0e5fc0.jpg', '1116561824_bd996e2a6e.jpg', '1204827293_4f11b976c1.jpg', '2542518189_4b9bd0d025.jpg', '2423470681_9e335f9452.jpg', '2350588422_bb936f3ae2.jpg', '261275907_01bade9983.jpg', '2257931091_50813bbbd0.jpg', '448766188_d668291c03.jpg', '432744416_4958c47494.jpg', '289331014_045ea7a79c.jpg', '2543374132_b5998767aa.jpg', '1715017081_a96fac4b67.jpg', '1171061063_3c804dc3ab.jpg', '1171082055_fac08843e4.jpg', '986844513_6e4e499659.jpg', '2542540945_2c8132840d.jpg', '2543367588_89aa06f111.jpg', '1426491237_07becebd6c.jpg', '1741176353_0b94141514.jpg', '2110236460_5733f6e1be.jpg', '2542525745_168ff9246b.jpg', '2197596561_e90743ed05.jpg', '210951727_1259b98413.jpg', '2693457135_887e1bca43.jpg', '178564592_082dd3ebb1.jpg', '2393193881_f53fdc9593.jpg', '2056631066_e95c92999e.jpg']\n"
     ]
    }
   ],
   "source": [
    "import os\n",
    "for dirs, sub_dirs, files in os.walk(\"data/model_test_images/\"):\n",
    "    print(dirs)\n",
    "    print(sub_dirs)\n",
    "    print(files)"
   ]
  },
  {
   "cell_type": "code",
   "execution_count": 12,
   "metadata": {},
   "outputs": [
    {
     "data": {
      "text/plain": [
       "['anvil', 'test', 'train', 'aircraft']"
      ]
     },
     "execution_count": 12,
     "metadata": {},
     "output_type": "execute_result"
    }
   ],
   "source": [
    "target_dirs = os.listdir(\"data/model_test_images\")\n",
    "target_dirs"
   ]
  },
  {
   "cell_type": "code",
   "execution_count": 13,
   "metadata": {},
   "outputs": [
    {
     "data": {
      "text/plain": [
       "(42, 11)"
      ]
     },
     "execution_count": 13,
     "metadata": {},
     "output_type": "execute_result"
    }
   ],
   "source": [
    "import random\n",
    "def create_train_test_list(target_dir):\n",
    "    random.seed(42)\n",
    "    image_list = [os.path.join(target_dir, img_path) for img_path in os.listdir(target_dir)]\n",
    "    train_split = int(0.8 * len(image_list))\n",
    "    train_image_list = random.sample(image_list, train_split)\n",
    "    test_image_list = list(set(image_list).difference(set(train_image_list)))\n",
    "    return train_image_list, test_image_list\n",
    "\n",
    "train_image_list, test_image_list = create_train_test_list(\"data/model_test_images/aircraft\")\n",
    "len(train_image_list), len(test_image_list)"
   ]
  },
  {
   "cell_type": "code",
   "execution_count": 14,
   "metadata": {},
   "outputs": [],
   "source": [
    "def copy_images_to_file(img_path_list, target_dir, train=True):\n",
    "        if train:\n",
    "            split_dir = \"train\"\n",
    "        else:\n",
    "            split_dir = \"test\"\n",
    "\n",
    "        # Copy images \n",
    "        for image_path in img_path_list:\n",
    "            image_file_name = os.path.split(image_path)[-1]\n",
    "            dest_path = os.path.join(target_dir, split_dir, image_dir, image_file_name)\n",
    "            print(f\"Copying: {image_path} to {dest_path}\")\n",
    "            copy2(image_path, dest_path)"
   ]
  },
  {
   "cell_type": "code",
   "execution_count": 15,
   "metadata": {},
   "outputs": [
    {
     "name": "stdout",
     "output_type": "stream",
     "text": [
      "Copying: data/model_test_images/anvil/1761887710_b848e69ca0.jpg to data/model_test_images_split/train/anvil/1761887710_b848e69ca0.jpg\n",
      "Copying: data/model_test_images/anvil/117452305_6ba7294262.jpg to data/model_test_images_split/train/anvil/117452305_6ba7294262.jpg\n",
      "Copying: data/model_test_images/anvil/3512257450_34820370e2.jpg to data/model_test_images_split/train/anvil/3512257450_34820370e2.jpg\n",
      "Copying: data/model_test_images/anvil/2653043238_ab3fb1ab4b.jpg to data/model_test_images_split/train/anvil/2653043238_ab3fb1ab4b.jpg\n",
      "Copying: data/model_test_images/anvil/3415989650_e35121d39f.jpg to data/model_test_images_split/train/anvil/3415989650_e35121d39f.jpg\n",
      "Copying: data/model_test_images/anvil/2680379787_232709eb59.jpg to data/model_test_images_split/train/anvil/2680379787_232709eb59.jpg\n",
      "Copying: data/model_test_images/anvil/2041031103_25906d861e.jpg to data/model_test_images_split/train/anvil/2041031103_25906d861e.jpg\n",
      "Copying: data/model_test_images/anvil/3050858024_489c44b578.jpg to data/model_test_images_split/train/anvil/3050858024_489c44b578.jpg\n",
      "Copying: data/model_test_images/anvil/2688352675_773e74672f.jpg to data/model_test_images_split/train/anvil/2688352675_773e74672f.jpg\n",
      "Copying: data/model_test_images/anvil/1807878315_a8df265920.jpg to data/model_test_images_split/train/anvil/1807878315_a8df265920.jpg\n",
      "Copying: data/model_test_images/anvil/2976981773_eca0938f44.jpg to data/model_test_images_split/train/anvil/2976981773_eca0938f44.jpg\n",
      "Copying: data/model_test_images/anvil/538892640_7abb612b68.jpg to data/model_test_images_split/train/anvil/538892640_7abb612b68.jpg\n",
      "Copying: data/model_test_images/anvil/2778636595_1302276129.jpg to data/model_test_images_split/train/anvil/2778636595_1302276129.jpg\n",
      "Copying: data/model_test_images/anvil/90659615_70a0040893.jpg to data/model_test_images_split/train/anvil/90659615_70a0040893.jpg\n",
      "Copying: data/model_test_images/anvil/3321337159_de560b7d86.jpg to data/model_test_images_split/train/anvil/3321337159_de560b7d86.jpg\n",
      "Copying: data/model_test_images/anvil/2069586554_8ae6c5fc09.jpg to data/model_test_images_split/train/anvil/2069586554_8ae6c5fc09.jpg\n",
      "Copying: data/model_test_images/anvil/3439372727_6a1192fb5f.jpg to data/model_test_images_split/train/anvil/3439372727_6a1192fb5f.jpg\n",
      "Copying: data/model_test_images/anvil/3827473308_a3774a8248.jpg to data/model_test_images_split/train/anvil/3827473308_a3774a8248.jpg\n",
      "Copying: data/model_test_images/anvil/3234513465_0bd70c8849.jpg to data/model_test_images_split/train/anvil/3234513465_0bd70c8849.jpg\n",
      "Copying: data/model_test_images/anvil/1114969084_812849be3c.jpg to data/model_test_images_split/train/anvil/1114969084_812849be3c.jpg\n",
      "Copying: data/model_test_images/anvil/539009801_403f543d10.jpg to data/model_test_images_split/train/anvil/539009801_403f543d10.jpg\n",
      "Copying: data/model_test_images/anvil/4218281819_de2945013f.jpg to data/model_test_images_split/train/anvil/4218281819_de2945013f.jpg\n",
      "Copying: data/model_test_images/anvil/73574493_4f91b7dff6.jpg to data/model_test_images_split/train/anvil/73574493_4f91b7dff6.jpg\n",
      "Copying: data/model_test_images/anvil/4391092884_447bf48519.jpg to data/model_test_images_split/train/anvil/4391092884_447bf48519.jpg\n",
      "Copying: data/model_test_images/anvil/3486303210_e2885b5c2a.jpg to data/model_test_images_split/train/anvil/3486303210_e2885b5c2a.jpg\n",
      "Copying: data/model_test_images/anvil/92992402_6991cf79f6.jpg to data/model_test_images_split/train/anvil/92992402_6991cf79f6.jpg\n",
      "Copying: data/model_test_images/anvil/1464389357_01db275586.jpg to data/model_test_images_split/train/anvil/1464389357_01db275586.jpg\n",
      "Copying: data/model_test_images/anvil/4388451586_f8934b2525.jpg to data/model_test_images_split/train/anvil/4388451586_f8934b2525.jpg\n",
      "Copying: data/model_test_images/anvil/1927370243_95da31ab75.jpg to data/model_test_images_split/train/anvil/1927370243_95da31ab75.jpg\n",
      "Copying: data/model_test_images/anvil/3251790162_6dfc166898.jpg to data/model_test_images_split/train/anvil/3251790162_6dfc166898.jpg\n",
      "Copying: data/model_test_images/anvil/4112331467_7e4b4fe4d7.jpg to data/model_test_images_split/train/anvil/4112331467_7e4b4fe4d7.jpg\n",
      "Copying: data/model_test_images/anvil/1352607644_67160c3519.jpg to data/model_test_images_split/train/anvil/1352607644_67160c3519.jpg\n",
      "Copying: data/model_test_images/anvil/3402428238_130149e13f.jpg to data/model_test_images_split/train/anvil/3402428238_130149e13f.jpg\n",
      "Copying: data/model_test_images/anvil/4351966670_af07ca701c.jpg to data/model_test_images_split/train/anvil/4351966670_af07ca701c.jpg\n",
      "Copying: data/model_test_images/anvil/2226730158_7968f2b239.jpg to data/model_test_images_split/train/anvil/2226730158_7968f2b239.jpg\n",
      "Copying: data/model_test_images/anvil/4434981387_b97f308b38.jpg to data/model_test_images_split/train/anvil/4434981387_b97f308b38.jpg\n",
      "Copying: data/model_test_images/anvil/2765485150_787ea042e1.jpg to data/model_test_images_split/train/anvil/2765485150_787ea042e1.jpg\n",
      "Copying: data/model_test_images/anvil/3645593933_5a8e7e21b9.jpg to data/model_test_images_split/train/anvil/3645593933_5a8e7e21b9.jpg\n",
      "Copying: data/model_test_images/anvil/4367666033_1597eee3b3.jpg to data/model_test_images_split/train/anvil/4367666033_1597eee3b3.jpg\n",
      "Copying: data/model_test_images/anvil/3537119187_df9c44bd4a.jpg to data/model_test_images_split/train/anvil/3537119187_df9c44bd4a.jpg\n",
      "Copying: data/model_test_images/anvil/2315018233_4735c48154.jpg to data/model_test_images_split/train/anvil/2315018233_4735c48154.jpg\n",
      "Copying: data/model_test_images/anvil/3536490876_c32efa76e7.jpg to data/model_test_images_split/train/anvil/3536490876_c32efa76e7.jpg\n",
      "Copying: data/model_test_images/anvil/2663589625_87802c0cb1.jpg to data/model_test_images_split/train/anvil/2663589625_87802c0cb1.jpg\n",
      "Copying: data/model_test_images/anvil/2190538359_58be175358.jpg to data/model_test_images_split/train/anvil/2190538359_58be175358.jpg\n",
      "Copying: data/model_test_images/anvil/3209446309_36955f4185.jpg to data/model_test_images_split/test/anvil/3209446309_36955f4185.jpg\n",
      "Copying: data/model_test_images/anvil/3470217641_7198ce17f0.jpg to data/model_test_images_split/test/anvil/3470217641_7198ce17f0.jpg\n",
      "Copying: data/model_test_images/anvil/2869155460_ebaf708e05.jpg to data/model_test_images_split/test/anvil/2869155460_ebaf708e05.jpg\n",
      "Copying: data/model_test_images/anvil/1685224938_22ef3ed143.jpg to data/model_test_images_split/test/anvil/1685224938_22ef3ed143.jpg\n",
      "Copying: data/model_test_images/anvil/3590331606_4a961f863c.jpg to data/model_test_images_split/test/anvil/3590331606_4a961f863c.jpg\n",
      "Copying: data/model_test_images/anvil/3867602114_8ba41b2b37.jpg to data/model_test_images_split/test/anvil/3867602114_8ba41b2b37.jpg\n",
      "Copying: data/model_test_images/anvil/2205263725_42f1679502.jpg to data/model_test_images_split/test/anvil/2205263725_42f1679502.jpg\n",
      "Copying: data/model_test_images/anvil/4434981477_8bd4bdd4c0.jpg to data/model_test_images_split/test/anvil/4434981477_8bd4bdd4c0.jpg\n",
      "Copying: data/model_test_images/anvil/4269925415_0ed3db3e8a.jpg to data/model_test_images_split/test/anvil/4269925415_0ed3db3e8a.jpg\n",
      "Copying: data/model_test_images/anvil/172718273_d721cf4c9b.jpg to data/model_test_images_split/test/anvil/172718273_d721cf4c9b.jpg\n",
      "Copying: data/model_test_images/anvil/153584514_dc55440503.jpg to data/model_test_images_split/test/anvil/153584514_dc55440503.jpg\n",
      "Copying: data/model_test_images/anvil/4014498287_5233704eed.jpg to data/model_test_images_split/test/anvil/4014498287_5233704eed.jpg\n",
      "Copying: data/model_test_images/aircraft/986844513_6e4e499659.jpg to data/model_test_images_split/train/aircraft/986844513_6e4e499659.jpg\n",
      "Copying: data/model_test_images/aircraft/1171059083_4fe67268da.jpg to data/model_test_images_split/train/aircraft/1171059083_4fe67268da.jpg\n",
      "Copying: data/model_test_images/aircraft/2198384480_ecaaf216b3.jpg to data/model_test_images_split/train/aircraft/2198384480_ecaaf216b3.jpg\n",
      "Copying: data/model_test_images/aircraft/2197596561_e90743ed05.jpg to data/model_test_images_split/train/aircraft/2197596561_e90743ed05.jpg\n",
      "Copying: data/model_test_images/aircraft/1620665374_95c7f0a16e.jpg to data/model_test_images_split/train/aircraft/1620665374_95c7f0a16e.jpg\n",
      "Copying: data/model_test_images/aircraft/1170999037_018ad7f464.jpg to data/model_test_images_split/train/aircraft/1170999037_018ad7f464.jpg\n",
      "Copying: data/model_test_images/aircraft/417566635_abe4a920b5.jpg to data/model_test_images_split/train/aircraft/417566635_abe4a920b5.jpg\n",
      "Copying: data/model_test_images/aircraft/473919967_67f5d208ef.jpg to data/model_test_images_split/train/aircraft/473919967_67f5d208ef.jpg\n",
      "Copying: data/model_test_images/aircraft/1715062941_29085b27d4.jpg to data/model_test_images_split/train/aircraft/1715062941_29085b27d4.jpg\n",
      "Copying: data/model_test_images/aircraft/1426491237_07becebd6c.jpg to data/model_test_images_split/train/aircraft/1426491237_07becebd6c.jpg\n",
      "Copying: data/model_test_images/aircraft/432744416_4958c47494.jpg to data/model_test_images_split/train/aircraft/432744416_4958c47494.jpg\n",
      "Copying: data/model_test_images/aircraft/375843063_871a7a6459.jpg to data/model_test_images_split/train/aircraft/375843063_871a7a6459.jpg\n",
      "Copying: data/model_test_images/aircraft/1715017081_a96fac4b67.jpg to data/model_test_images_split/train/aircraft/1715017081_a96fac4b67.jpg\n",
      "Copying: data/model_test_images/aircraft/1204827293_4f11b976c1.jpg to data/model_test_images_split/train/aircraft/1204827293_4f11b976c1.jpg\n",
      "Copying: data/model_test_images/aircraft/2694271500_950340d61f.jpg to data/model_test_images_split/train/aircraft/2694271500_950340d61f.jpg\n",
      "Copying: data/model_test_images/aircraft/178564592_082dd3ebb1.jpg to data/model_test_images_split/train/aircraft/178564592_082dd3ebb1.jpg\n",
      "Copying: data/model_test_images/aircraft/2542540945_2c8132840d.jpg to data/model_test_images_split/train/aircraft/2542540945_2c8132840d.jpg\n",
      "Copying: data/model_test_images/aircraft/2298503863_1e3b24719b.jpg to data/model_test_images_split/train/aircraft/2298503863_1e3b24719b.jpg\n",
      "Copying: data/model_test_images/aircraft/2542525745_168ff9246b.jpg to data/model_test_images_split/train/aircraft/2542525745_168ff9246b.jpg\n",
      "Copying: data/model_test_images/aircraft/2257931091_50813bbbd0.jpg to data/model_test_images_split/train/aircraft/2257931091_50813bbbd0.jpg\n",
      "Copying: data/model_test_images/aircraft/2056631066_e95c92999e.jpg to data/model_test_images_split/train/aircraft/2056631066_e95c92999e.jpg\n",
      "Copying: data/model_test_images/aircraft/2257546470_c70143c0a5.jpg to data/model_test_images_split/train/aircraft/2257546470_c70143c0a5.jpg\n",
      "Copying: data/model_test_images/aircraft/2367391512_9dc00fcaa7.jpg to data/model_test_images_split/train/aircraft/2367391512_9dc00fcaa7.jpg\n",
      "Copying: data/model_test_images/aircraft/161310937_ec0d9ee7f0.jpg to data/model_test_images_split/train/aircraft/161310937_ec0d9ee7f0.jpg\n",
      "Copying: data/model_test_images/aircraft/2350588422_bb936f3ae2.jpg to data/model_test_images_split/train/aircraft/2350588422_bb936f3ae2.jpg\n",
      "Copying: data/model_test_images/aircraft/210951727_1259b98413.jpg to data/model_test_images_split/train/aircraft/210951727_1259b98413.jpg\n",
      "Copying: data/model_test_images/aircraft/289331014_045ea7a79c.jpg to data/model_test_images_split/train/aircraft/289331014_045ea7a79c.jpg\n",
      "Copying: data/model_test_images/aircraft/2393193881_f53fdc9593.jpg to data/model_test_images_split/train/aircraft/2393193881_f53fdc9593.jpg\n",
      "Copying: data/model_test_images/aircraft/2543367588_89aa06f111.jpg to data/model_test_images_split/train/aircraft/2543367588_89aa06f111.jpg\n",
      "Copying: data/model_test_images/aircraft/399456498_e98b61e031.jpg to data/model_test_images_split/train/aircraft/399456498_e98b61e031.jpg\n",
      "Copying: data/model_test_images/aircraft/2110236460_5733f6e1be.jpg to data/model_test_images_split/train/aircraft/2110236460_5733f6e1be.jpg\n",
      "Copying: data/model_test_images/aircraft/1171097807_dc33da63c9.jpg to data/model_test_images_split/train/aircraft/1171097807_dc33da63c9.jpg\n",
      "Copying: data/model_test_images/aircraft/2543374132_b5998767aa.jpg to data/model_test_images_split/train/aircraft/2543374132_b5998767aa.jpg\n",
      "Copying: data/model_test_images/aircraft/1116561824_bd996e2a6e.jpg to data/model_test_images_split/train/aircraft/1116561824_bd996e2a6e.jpg\n",
      "Copying: data/model_test_images/aircraft/2542538183_828626940e.jpg to data/model_test_images_split/train/aircraft/2542538183_828626940e.jpg\n",
      "Copying: data/model_test_images/aircraft/2542518189_4b9bd0d025.jpg to data/model_test_images_split/train/aircraft/2542518189_4b9bd0d025.jpg\n",
      "Copying: data/model_test_images/aircraft/2542501551_9a9dd54811.jpg to data/model_test_images_split/train/aircraft/2542501551_9a9dd54811.jpg\n",
      "Copying: data/model_test_images/aircraft/1741176353_0b94141514.jpg to data/model_test_images_split/train/aircraft/1741176353_0b94141514.jpg\n",
      "Copying: data/model_test_images/aircraft/261275907_01bade9983.jpg to data/model_test_images_split/train/aircraft/261275907_01bade9983.jpg\n",
      "Copying: data/model_test_images/aircraft/2423470681_9e335f9452.jpg to data/model_test_images_split/train/aircraft/2423470681_9e335f9452.jpg\n",
      "Copying: data/model_test_images/aircraft/448766188_d668291c03.jpg to data/model_test_images_split/train/aircraft/448766188_d668291c03.jpg\n",
      "Copying: data/model_test_images/aircraft/1204109417_1da972f127.jpg to data/model_test_images_split/train/aircraft/1204109417_1da972f127.jpg\n",
      "Copying: data/model_test_images/aircraft/1862453011_f8ab0e5fc0.jpg to data/model_test_images_split/test/aircraft/1862453011_f8ab0e5fc0.jpg\n",
      "Copying: data/model_test_images/aircraft/49517128_dbfd6ca176.jpg to data/model_test_images_split/test/aircraft/49517128_dbfd6ca176.jpg\n",
      "Copying: data/model_test_images/aircraft/2453145003_f03c80cccb.jpg to data/model_test_images_split/test/aircraft/2453145003_f03c80cccb.jpg\n",
      "Copying: data/model_test_images/aircraft/108928477_9d0370f712.jpg to data/model_test_images_split/test/aircraft/108928477_9d0370f712.jpg\n",
      "Copying: data/model_test_images/aircraft/2191549173_4029490817.jpg to data/model_test_images_split/test/aircraft/2191549173_4029490817.jpg\n",
      "Copying: data/model_test_images/aircraft/2198383298_746951ac64.jpg to data/model_test_images_split/test/aircraft/2198383298_746951ac64.jpg\n",
      "Copying: data/model_test_images/aircraft/367863038_12d6abe51d.jpg to data/model_test_images_split/test/aircraft/367863038_12d6abe51d.jpg\n",
      "Copying: data/model_test_images/aircraft/2693457135_887e1bca43.jpg to data/model_test_images_split/test/aircraft/2693457135_887e1bca43.jpg\n",
      "Copying: data/model_test_images/aircraft/1171061063_3c804dc3ab.jpg to data/model_test_images_split/test/aircraft/1171061063_3c804dc3ab.jpg\n",
      "Copying: data/model_test_images/aircraft/1171082055_fac08843e4.jpg to data/model_test_images_split/test/aircraft/1171082055_fac08843e4.jpg\n",
      "Copying: data/model_test_images/aircraft/472323417_b90347d905.jpg to data/model_test_images_split/test/aircraft/472323417_b90347d905.jpg\n"
     ]
    }
   ],
   "source": [
    "# Create a function to move images\n",
    "from shutil import copy2 \n",
    "data_dir = \"data/model_test_images\"\n",
    "target_dir = \"data/model_test_images_split\"\n",
    "for image_dir in os.listdir(data_dir):\n",
    "    for split_dir in [\"train\", \"test\"]:\n",
    "        os.makedirs(os.path.join(target_dir, split_dir, image_dir), exist_ok=True)\n",
    "\n",
    "    # Make training and test lists of target images\n",
    "    train_image_list, test_image_list = create_train_test_list(os.path.join(data_dir, image_dir))\n",
    "\n",
    "    # Copy training images\n",
    "    copy_images_to_file(img_path_list=train_image_list, \n",
    "                        target_dir=target_dir, \n",
    "                        train=True)\n",
    "\n",
    "    # Copy testing images\n",
    "    copy_images_to_file(img_path_list=test_image_list, \n",
    "                        target_dir=target_dir, \n",
    "                        train=False)"
   ]
  },
  {
   "cell_type": "code",
   "execution_count": 16,
   "metadata": {},
   "outputs": [],
   "source": [
    "# Next \n",
    "# Make model datasets from train/test folders\n",
    "# Build a model on train/test datasets\n",
    "# Evaluate model\n",
    "# Convert model to tflite for deployment..."
   ]
  },
  {
   "cell_type": "markdown",
   "metadata": {},
   "source": [
    "## Load data"
   ]
  },
  {
   "cell_type": "code",
   "execution_count": 36,
   "metadata": {},
   "outputs": [],
   "source": [
    "import tensorflow as tf\n",
    "tf.get_logger().setLevel('INFO')"
   ]
  },
  {
   "cell_type": "code",
   "execution_count": 37,
   "metadata": {},
   "outputs": [
    {
     "data": {
      "text/plain": [
       "('data/train', 'data/test')"
      ]
     },
     "execution_count": 37,
     "metadata": {},
     "output_type": "execute_result"
    }
   ],
   "source": [
    "train_dir = \"data/train\"\n",
    "test_dir = \"data/test\"\n",
    "train_dir, test_dir"
   ]
  },
  {
   "cell_type": "code",
   "execution_count": 44,
   "metadata": {},
   "outputs": [
    {
     "data": {
      "text/plain": [
       "(2, 2267, 41281)"
      ]
     },
     "execution_count": 44,
     "metadata": {},
     "output_type": "execute_result"
    }
   ],
   "source": [
    "total_samples = len(os.listdir(train_dir))\n",
    "num_food_samples = len(os.listdir(os.path.join(train_dir, \"food_images\")))\n",
    "num_non_food_samples = len(os.listdir(os.path.join(train_dir, \"non_food_images\")))\n",
    "total_samples, num_food_samples, num_non_food_samples"
   ]
  },
  {
   "cell_type": "code",
   "execution_count": 51,
   "metadata": {},
   "outputs": [
    {
     "data": {
      "text/plain": [
       "(0.0004411116012351125, 2.4224219374530657e-05)"
      ]
     },
     "execution_count": 51,
     "metadata": {},
     "output_type": "execute_result"
    }
   ],
   "source": [
    "(1 / num_food_samples) * (total_samples / 2.0), (1 / num_non_food_samples) * (total_samples / 2.0)"
   ]
  },
  {
   "cell_type": "code",
   "execution_count": 50,
   "metadata": {},
   "outputs": [
    {
     "name": "stdout",
     "output_type": "stream",
     "text": [
      "Weight for class 0: 0.0004411116012351125\n",
      "Weight for class 1: 2.4224219374530657e-05\n"
     ]
    }
   ],
   "source": [
    "# Since we have a data imabalance let's get class weights\n",
    "\n",
    "# See: https://www.tensorflow.org/tutorials/structured_data/imbalanced_data\n",
    "# Scaling by total/2 helps keep the loss to a similar magnitude.\n",
    "# The sum of the weights of all examples stays the same.\n",
    "weight_for_0 = (1 / num_food_samples) * (total_samples / 2.0)\n",
    "weight_for_1 = (1 / num_non_food_samples) * (total_samples / 2.0)\n",
    "\n",
    "class_weight = {0: weight_for_0, 1: weight_for_1}\n",
    "\n",
    "print(f'Weight for class 0: {weight_for_0}')\n",
    "print(f'Weight for class 1: {weight_for_1}')"
   ]
  },
  {
   "cell_type": "code",
   "execution_count": 52,
   "metadata": {},
   "outputs": [
    {
     "name": "stdout",
     "output_type": "stream",
     "text": [
      "Found 43367 files belonging to 2 classes.\n",
      "Found 10854 files belonging to 2 classes.\n"
     ]
    },
    {
     "data": {
      "text/plain": [
       "(<BatchDataset shapes: ((None, 224, 224, 3), (None,)), types: (tf.float32, tf.int32)>,\n",
       " <BatchDataset shapes: ((None, 224, 224, 3), (None,)), types: (tf.float32, tf.int32)>)"
      ]
     },
     "execution_count": 52,
     "metadata": {},
     "output_type": "execute_result"
    }
   ],
   "source": [
    "# Load in data\n",
    "train_data = tf.keras.preprocessing.image_dataset_from_directory(train_dir,\n",
    "    batch_size=32,\n",
    "    image_size=(224, 224)\n",
    ")\n",
    "\n",
    "test_data = tf.keras.preprocessing.image_dataset_from_directory(test_dir,\n",
    "    batch_size=32,\n",
    "    image_size=(224, 224)\n",
    ")\n",
    "\n",
    "train_data, test_data"
   ]
  },
  {
   "cell_type": "code",
   "execution_count": 53,
   "metadata": {},
   "outputs": [
    {
     "data": {
      "text/plain": [
       "1356"
      ]
     },
     "execution_count": 53,
     "metadata": {},
     "output_type": "execute_result"
    }
   ],
   "source": [
    "len(train_data)"
   ]
  },
  {
   "cell_type": "code",
   "execution_count": 54,
   "metadata": {},
   "outputs": [
    {
     "data": {
      "text/plain": [
       "['food_images', 'non_food_images']"
      ]
     },
     "execution_count": 54,
     "metadata": {},
     "output_type": "execute_result"
    }
   ],
   "source": [
    "train_data.class_names"
   ]
  },
  {
   "cell_type": "code",
   "execution_count": 55,
   "metadata": {},
   "outputs": [],
   "source": [
    "train_data = train_data.prefetch(tf.data.AUTOTUNE)\n",
    "test_data = test_data.prefetch(tf.data.AUTOTUNE)"
   ]
  },
  {
   "cell_type": "markdown",
   "metadata": {},
   "source": [
    "## Build the first model"
   ]
  },
  {
   "cell_type": "code",
   "execution_count": 56,
   "metadata": {},
   "outputs": [],
   "source": [
    "base_model = tf.keras.applications.EfficientNetB0(include_top=False)\n",
    "\n",
    "# Make model untrainable \n",
    "base_model.trainable = False\n",
    "\n",
    "# Build a functional model\n",
    "input_layer = tf.keras.Input(shape=(224, 224, 3))\n",
    "x = base_model(input_layer)\n",
    "x = tf.keras.layers.GlobalAveragePooling2D()(x)\n",
    "output_layer = tf.keras.layers.Dense(1, activation=\"sigmoid\")(x)\n",
    "\n",
    "# Construct model\n",
    "model_1 = tf.keras.Model(input_layer, output_layer, name=\"EfficientNetB0-V1\")"
   ]
  },
  {
   "cell_type": "code",
   "execution_count": 57,
   "metadata": {},
   "outputs": [
    {
     "data": {
      "image/png": "[encoded data removed]",
      "text/plain": [
       "<IPython.core.display.Image object>"
      ]
     },
     "execution_count": 57,
     "metadata": {},
     "output_type": "execute_result"
    }
   ],
   "source": [
    "tf.keras.utils.plot_model(model_1, show_shapes=True)\n"
   ]
  },
  {
   "cell_type": "code",
   "execution_count": 58,
   "metadata": {},
   "outputs": [],
   "source": [
    "# Compile model\n",
    "model_1.compile(loss=tf.keras.losses.BinaryCrossentropy(),\n",
    "    optimizer=tf.keras.optimizers.Adam(),\n",
    "    metrics=[\"accuracy\"]\n",
    ")"
   ]
  },
  {
   "cell_type": "code",
   "execution_count": 59,
   "metadata": {},
   "outputs": [],
   "source": [
    "# Create EarlyStopping callback and TensorBoard callback\n",
    "early_stopping = tf.keras.callbacks.EarlyStopping(patience=5,\n",
    "    monitor=\"val_loss\"\n",
    ")"
   ]
  },
  {
   "cell_type": "code",
   "execution_count": 60,
   "metadata": {},
   "outputs": [
    {
     "data": {
      "text/html": [
       "Finishing last run (ID:20hsc9w5) before initializing another..."
      ],
      "text/plain": [
       "<IPython.core.display.HTML object>"
      ]
     },
     "metadata": {},
     "output_type": "display_data"
    },
    {
     "data": {
      "text/html": [
       "<br/>Waiting for W&B process to finish, PID 360619... <strong style=\"color:green\">(success).</strong>"
      ],
      "text/plain": [
       "<IPython.core.display.HTML object>"
      ]
     },
     "metadata": {},
     "output_type": "display_data"
    },
    {
     "data": {
      "application/vnd.jupyter.widget-view+json": {
       "model_id": "19a7672423254ebb817ac63882167ac3",
       "version_major": 2,
       "version_minor": 0
      },
      "text/plain": [
       "VBox(children=(Label(value=' 0.95MB of 0.95MB uploaded (0.00MB deduped)\\r'), FloatProgress(value=1.0, max=1.0)…"
      ]
     },
     "metadata": {},
     "output_type": "display_data"
    },
    {
     "data": {
      "text/html": [
       "<style>\n",
       "    table.wandb td:nth-child(1) { padding: 0 10px; text-align: right }\n",
       "    .wandb-row { display: flex; flex-direction: row; flex-wrap: wrap; width: 100% }\n",
       "    .wandb-col { display: flex; flex-direction: column; flex-basis: 100%; flex: 1; padding: 10px; }\n",
       "    </style>\n",
       "<div class=\"wandb-row\"><div class=\"wandb-col\">\n",
       "<h3>Run history:</h3><br/><table class=\"wandb\"><tr><td>global_step</td><td>▁▁▂▂▄▄▅▅▇▇█</td></tr><tr><td>train/epoch_accuracy</td><td>▁▆▇██</td></tr><tr><td>train/epoch_loss</td><td>█▃▂▂▁</td></tr><tr><td>train/global_step</td><td>▁▁▃▅▆█</td></tr><tr><td>validation/epoch_accuracy</td><td>▁▃▅▆█</td></tr><tr><td>validation/epoch_loss</td><td>█▄▃▂▁</td></tr><tr><td>validation/evaluation_accuracy_vs_iterations</td><td>▁▃▅▆█</td></tr><tr><td>validation/evaluation_loss_vs_iterations</td><td>█▄▃▂▁</td></tr><tr><td>validation/global_step</td><td>▁▃▅▆█</td></tr></table><br/></div><div class=\"wandb-col\">\n",
       "<h3>Run summary:</h3><br/><table class=\"wandb\"><tr><td>global_step</td><td>6780</td></tr><tr><td>train/epoch_accuracy</td><td>0.95275</td></tr><tr><td>train/epoch_loss</td><td>0.14469</td></tr><tr><td>train/global_step</td><td>4</td></tr><tr><td>validation/epoch_accuracy</td><td>0.95301</td></tr><tr><td>validation/epoch_loss</td><td>0.14863</td></tr><tr><td>validation/evaluation_accuracy_vs_iterations</td><td>0.95301</td></tr><tr><td>validation/evaluation_loss_vs_iterations</td><td>0.14863</td></tr><tr><td>validation/global_step</td><td>4</td></tr></table>\n",
       "</div></div>\n",
       "Synced 5 W&B file(s), 0 media file(s), 0 artifact file(s) and 2 other file(s)\n",
       "<br/>Synced <strong style=\"color:#cdcd00\">splendid-dream-5</strong>: <a href=\"https://wandb.ai/mrdbourke/100k-livestream-video/runs/20hsc9w5\" target=\"_blank\">https://wandb.ai/mrdbourke/100k-livestream-video/runs/20hsc9w5</a><br/>\n",
       "Find logs at: <code>./wandb/run-20211106_152054-20hsc9w5/logs</code><br/>\n"
      ],
      "text/plain": [
       "<IPython.core.display.HTML object>"
      ]
     },
     "metadata": {},
     "output_type": "display_data"
    },
    {
     "data": {
      "text/html": [
       "Successfully finished last run (ID:20hsc9w5). Initializing new run:<br/>"
      ],
      "text/plain": [
       "<IPython.core.display.HTML object>"
      ]
     },
     "metadata": {},
     "output_type": "display_data"
    },
    {
     "name": "stderr",
     "output_type": "stream",
     "text": [
      "2021-11-06 15:41:48.803261: I tensorflow/stream_executor/platform/default/dso_loader.cc:53] Successfully opened dynamic library libcudart.so.11.0\n"
     ]
    },
    {
     "data": {
      "text/html": [
       "\n",
       "                    Syncing run <strong><a href=\"https://wandb.ai/mrdbourke/100k-livestream-video/runs/izsaa14g\" target=\"_blank\">different-darkness-6</a></strong> to <a href=\"https://wandb.ai/mrdbourke/100k-livestream-video\" target=\"_blank\">Weights & Biases</a> (<a href=\"https://docs.wandb.com/integrations/jupyter.html\" target=\"_blank\">docs</a>).<br/>\n",
       "\n",
       "                "
      ],
      "text/plain": [
       "<IPython.core.display.HTML object>"
      ]
     },
     "metadata": {},
     "output_type": "display_data"
    },
    {
     "name": "stdout",
     "output_type": "stream",
     "text": [
      "Saving TensorBoard log files to: logs/EfficientNetB0-V1/20211106-154151\n",
      "WARNING:tensorflow:From /home/daniel/code/tensorflow/env/lib/python3.9/site-packages/tensorflow/python/ops/array_ops.py:5043: calling gather (from tensorflow.python.ops.array_ops) with validate_indices is deprecated and will be removed in a future version.\n",
      "Instructions for updating:\n",
      "The `validate_indices` argument has no effect. Indices are always validated on CPU and never validated on GPU.\n"
     ]
    },
    {
     "name": "stderr",
     "output_type": "stream",
     "text": [
      "2021-11-06 15:41:51.293475: I tensorflow/core/profiler/lib/profiler_session.cc:126] Profiler session initializing.\n",
      "2021-11-06 15:41:51.293491: I tensorflow/core/profiler/lib/profiler_session.cc:141] Profiler session started.\n",
      "2021-11-06 15:41:51.293526: E tensorflow/core/profiler/internal/gpu/cupti_tracer.cc:1661] function cupti_interface_->Subscribe( &subscriber_, (CUpti_CallbackFunc)ApiCallback, this)failed with error CUPTI could not be loaded or symbol could not be found.\n",
      "2021-11-06 15:41:51.293542: I tensorflow/core/profiler/lib/profiler_session.cc:159] Profiler session tear down.\n",
      "2021-11-06 15:41:51.293571: E tensorflow/core/profiler/internal/gpu/cupti_tracer.cc:1752] function cupti_interface_->Finalize()failed with error CUPTI could not be loaded or symbol could not be found.\n",
      "WARNING:tensorflow:From /home/daniel/code/tensorflow/env/lib/python3.9/site-packages/tensorflow/python/ops/array_ops.py:5043: calling gather (from tensorflow.python.ops.array_ops) with validate_indices is deprecated and will be removed in a future version.\n",
      "Instructions for updating:\n",
      "The `validate_indices` argument has no effect. Indices are always validated on CPU and never validated on GPU.\n",
      "\u001b[34m\u001b[1mwandb\u001b[0m: \u001b[33mWARNING\u001b[0m When using several event log directories, please call wandb.tensorboard.patch(root_logdir=\"...\") before wandb.init\n",
      "/home/daniel/code/tensorflow/env/lib/python3.9/site-packages/tensorflow/python/keras/utils/generic_utils.py:494: CustomMaskWarning: Custom mask layers require a config and must override get_config. When loading, the custom mask layer must be passed to the custom_objects argument.\n",
      "  warnings.warn('Custom mask layers require a config and must override '\n"
     ]
    },
    {
     "name": "stdout",
     "output_type": "stream",
     "text": [
      "Epoch 1/5\n",
      "   2/1356 [..............................] - ETA: 4:03 - loss: 5.8681e-05 - accuracy: 0.3906   "
     ]
    },
    {
     "name": "stderr",
     "output_type": "stream",
     "text": [
      "2021-11-06 15:41:54.830874: I tensorflow/core/profiler/lib/profiler_session.cc:126] Profiler session initializing.\n",
      "2021-11-06 15:41:54.830896: I tensorflow/core/profiler/lib/profiler_session.cc:141] Profiler session started.\n",
      "2021-11-06 15:41:54.830956: E tensorflow/core/profiler/internal/gpu/cupti_tracer.cc:1661] function cupti_interface_->Subscribe( &subscriber_, (CUpti_CallbackFunc)ApiCallback, this)failed with error CUPTI could not be loaded or symbol could not be found.\n"
     ]
    },
    {
     "name": "stdout",
     "output_type": "stream",
     "text": [
      "   7/1356 [..............................] - ETA: 2:12 - loss: 3.6410e-05 - accuracy: 0.3527"
     ]
    },
    {
     "name": "stderr",
     "output_type": "stream",
     "text": [
      "2021-11-06 15:41:55.075272: I tensorflow/core/profiler/lib/profiler_session.cc:66] Profiler session collecting data.\n",
      "2021-11-06 15:41:55.076306: E tensorflow/core/profiler/internal/gpu/cupti_tracer.cc:1752] function cupti_interface_->Finalize()failed with error CUPTI could not be loaded or symbol could not be found.\n",
      "2021-11-06 15:41:55.082010: I tensorflow/core/profiler/internal/gpu/cupti_collector.cc:673]  GpuTracer has collected 0 callback api events and 0 activity events. \n",
      "2021-11-06 15:41:55.084044: I tensorflow/core/profiler/lib/profiler_session.cc:159] Profiler session tear down.\n",
      "2021-11-06 15:41:55.087251: I tensorflow/core/profiler/rpc/client/save_profile.cc:137] Creating directory: logs/EfficientNetB0-V1/20211106-154151/train/plugins/profile/2021_11_06_15_41_55\n",
      "2021-11-06 15:41:55.088812: I tensorflow/core/profiler/rpc/client/save_profile.cc:143] Dumped gzipped tool data for trace.json.gz to logs/EfficientNetB0-V1/20211106-154151/train/plugins/profile/2021_11_06_15_41_55/daniel-Z490-UD.trace.json.gz\n",
      "2021-11-06 15:41:55.105860: I tensorflow/core/profiler/rpc/client/save_profile.cc:137] Creating directory: logs/EfficientNetB0-V1/20211106-154151/train/plugins/profile/2021_11_06_15_41_55\n",
      "2021-11-06 15:41:55.109565: I tensorflow/core/profiler/rpc/client/save_profile.cc:143] Dumped gzipped tool data for memory_profile.json.gz to logs/EfficientNetB0-V1/20211106-154151/train/plugins/profile/2021_11_06_15_41_55/daniel-Z490-UD.memory_profile.json.gz\n",
      "2021-11-06 15:41:55.109834: I tensorflow/core/profiler/rpc/client/capture_profile.cc:251] Creating directory: logs/EfficientNetB0-V1/20211106-154151/train/plugins/profile/2021_11_06_15_41_55Dumped tool data for xplane.pb to logs/EfficientNetB0-V1/20211106-154151/train/plugins/profile/2021_11_06_15_41_55/daniel-Z490-UD.xplane.pb\n",
      "Dumped tool data for overview_page.pb to logs/EfficientNetB0-V1/20211106-154151/train/plugins/profile/2021_11_06_15_41_55/daniel-Z490-UD.overview_page.pb\n",
      "Dumped tool data for input_pipeline.pb to logs/EfficientNetB0-V1/20211106-154151/train/plugins/profile/2021_11_06_15_41_55/daniel-Z490-UD.input_pipeline.pb\n",
      "Dumped tool data for tensorflow_stats.pb to logs/EfficientNetB0-V1/20211106-154151/train/plugins/profile/2021_11_06_15_41_55/daniel-Z490-UD.tensorflow_stats.pb\n",
      "Dumped tool data for kernel_stats.pb to logs/EfficientNetB0-V1/20211106-154151/train/plugins/profile/2021_11_06_15_41_55/daniel-Z490-UD.kernel_stats.pb\n",
      "\n"
     ]
    },
    {
     "name": "stdout",
     "output_type": "stream",
     "text": [
      "1239/1356 [==========================>...] - ETA: 3s - loss: 2.4084e-05 - accuracy: 0.7343"
     ]
    },
    {
     "name": "stderr",
     "output_type": "stream",
     "text": [
      "2021-11-06 15:42:31.936930: W tensorflow/core/lib/png/png_io.cc:88] PNG warning: iCCP: known incorrect sRGB profile\n"
     ]
    },
    {
     "name": "stdout",
     "output_type": "stream",
     "text": [
      "1355/1356 [============================>.] - ETA: 0s - loss: 2.4118e-05 - accuracy: 0.7336"
     ]
    },
    {
     "name": "stderr",
     "output_type": "stream",
     "text": [
      "\u001b[34m\u001b[1mwandb\u001b[0m: \u001b[33mWARNING\u001b[0m When using several event log directories, please call wandb.tensorboard.patch(root_logdir=\"...\") before wandb.init\n",
      "2021-11-06 15:42:38.032108: W tensorflow/core/lib/png/png_io.cc:88] PNG warning: iCCP: known incorrect sRGB profile\n"
     ]
    },
    {
     "name": "stdout",
     "output_type": "stream",
     "text": [
      "1356/1356 [==============================] - 54s 38ms/step - loss: 2.4116e-05 - accuracy: 0.7336 - val_loss: 0.5380 - val_accuracy: 0.7487\n",
      "Epoch 2/5\n",
      "1243/1356 [==========================>...] - ETA: 3s - loss: 2.0795e-05 - accuracy: 0.7850"
     ]
    },
    {
     "name": "stderr",
     "output_type": "stream",
     "text": [
      "2021-11-06 15:43:23.049485: W tensorflow/core/lib/png/png_io.cc:88] PNG warning: iCCP: known incorrect sRGB profile\n"
     ]
    },
    {
     "name": "stdout",
     "output_type": "stream",
     "text": [
      "1355/1356 [============================>.] - ETA: 0s - loss: 2.0834e-05 - accuracy: 0.7839"
     ]
    },
    {
     "name": "stderr",
     "output_type": "stream",
     "text": [
      "2021-11-06 15:43:28.341994: W tensorflow/core/lib/png/png_io.cc:88] PNG warning: iCCP: known incorrect sRGB profile\n"
     ]
    },
    {
     "name": "stdout",
     "output_type": "stream",
     "text": [
      "1356/1356 [==============================] - 50s 37ms/step - loss: 2.0832e-05 - accuracy: 0.7839 - val_loss: 0.4786 - val_accuracy: 0.7826\n",
      "Epoch 3/5\n",
      "1243/1356 [==========================>...] - ETA: 3s - loss: 1.9526e-05 - accuracy: 0.7999"
     ]
    },
    {
     "name": "stderr",
     "output_type": "stream",
     "text": [
      "2021-11-06 15:44:13.383619: W tensorflow/core/lib/png/png_io.cc:88] PNG warning: iCCP: known incorrect sRGB profile\n"
     ]
    },
    {
     "name": "stdout",
     "output_type": "stream",
     "text": [
      "1355/1356 [============================>.] - ETA: 0s - loss: 1.9693e-05 - accuracy: 0.7978"
     ]
    },
    {
     "name": "stderr",
     "output_type": "stream",
     "text": [
      "2021-11-06 15:44:18.701850: W tensorflow/core/lib/png/png_io.cc:88] PNG warning: iCCP: known incorrect sRGB profile\n"
     ]
    },
    {
     "name": "stdout",
     "output_type": "stream",
     "text": [
      "1356/1356 [==============================] - 50s 37ms/step - loss: 1.9693e-05 - accuracy: 0.7978 - val_loss: 0.4712 - val_accuracy: 0.7874\n",
      "Epoch 4/5\n",
      "1241/1356 [==========================>...] - ETA: 3s - loss: 1.8878e-05 - accuracy: 0.8068"
     ]
    },
    {
     "name": "stderr",
     "output_type": "stream",
     "text": [
      "2021-11-06 15:45:03.748715: W tensorflow/core/lib/png/png_io.cc:88] PNG warning: iCCP: known incorrect sRGB profile\n"
     ]
    },
    {
     "name": "stdout",
     "output_type": "stream",
     "text": [
      "1355/1356 [============================>.] - ETA: 0s - loss: 1.8999e-05 - accuracy: 0.8057"
     ]
    },
    {
     "name": "stderr",
     "output_type": "stream",
     "text": [
      "2021-11-06 15:45:09.113899: W tensorflow/core/lib/png/png_io.cc:88] PNG warning: iCCP: known incorrect sRGB profile\n"
     ]
    },
    {
     "name": "stdout",
     "output_type": "stream",
     "text": [
      "1356/1356 [==============================] - 50s 37ms/step - loss: 1.8999e-05 - accuracy: 0.8057 - val_loss: 0.4444 - val_accuracy: 0.7992\n",
      "Epoch 5/5\n",
      "1241/1356 [==========================>...] - ETA: 3s - loss: 1.8361e-05 - accuracy: 0.8128"
     ]
    },
    {
     "name": "stderr",
     "output_type": "stream",
     "text": [
      "2021-11-06 15:45:54.185051: W tensorflow/core/lib/png/png_io.cc:88] PNG warning: iCCP: known incorrect sRGB profile\n"
     ]
    },
    {
     "name": "stdout",
     "output_type": "stream",
     "text": [
      "1355/1356 [============================>.] - ETA: 0s - loss: 1.8489e-05 - accuracy: 0.8104"
     ]
    },
    {
     "name": "stderr",
     "output_type": "stream",
     "text": [
      "2021-11-06 15:45:59.547174: W tensorflow/core/lib/png/png_io.cc:88] PNG warning: iCCP: known incorrect sRGB profile\n"
     ]
    },
    {
     "name": "stdout",
     "output_type": "stream",
     "text": [
      "1356/1356 [==============================] - 50s 37ms/step - loss: 1.8487e-05 - accuracy: 0.8103 - val_loss: 0.4453 - val_accuracy: 0.7979\n"
     ]
    }
   ],
   "source": [
    "# Fit model\n",
    "import wandb\n",
    "# wandb.tensorboard.patch(root_logdir=\"logs\")\n",
    "wandb.init(project=\"100k-livestream-video\", sync_tensorboard=True)\n",
    "history_1 = model_1.fit(train_data,\n",
    "                        epochs=5,\n",
    "                        validation_data=test_data,\n",
    "                        callbacks=[early_stopping,\n",
    "                                   create_tensorboard_callback(\"logs\", model_1.name)],\n",
    "                        class_weight=class_weight) # adjust for different numbers of classes..."
   ]
  },
  {
   "cell_type": "code",
   "execution_count": 61,
   "metadata": {},
   "outputs": [
    {
     "name": "stdout",
     "output_type": "stream",
     "text": [
      " 67/340 [====>.........................] - ETA: 8s - loss: 0.4422 - accuracy: 0.8013"
     ]
    },
    {
     "name": "stderr",
     "output_type": "stream",
     "text": [
      "2021-11-06 15:46:09.529229: W tensorflow/core/lib/png/png_io.cc:88] PNG warning: iCCP: known incorrect sRGB profile\n"
     ]
    },
    {
     "name": "stdout",
     "output_type": "stream",
     "text": [
      "340/340 [==============================] - 10s 29ms/step - loss: 0.4453 - accuracy: 0.7979\n"
     ]
    },
    {
     "data": {
      "text/plain": [
       "[0.445324569940567, 0.7978625297546387]"
      ]
     },
     "execution_count": 61,
     "metadata": {},
     "output_type": "execute_result"
    }
   ],
   "source": [
    "model_1.evaluate(test_data)"
   ]
  },
  {
   "cell_type": "code",
   "execution_count": 31,
   "metadata": {},
   "outputs": [
    {
     "data": {
      "text/plain": [
       "(2267, 41281)"
      ]
     },
     "execution_count": 31,
     "metadata": {},
     "output_type": "execute_result"
    }
   ],
   "source": [
    "len(os.listdir(\"data/train/food_images/\")), len(os.listdir(\"data/train/non_food_images/\"))"
   ]
  },
  {
   "cell_type": "markdown",
   "metadata": {},
   "source": [
    "## Save Model"
   ]
  },
  {
   "cell_type": "code",
   "execution_count": 62,
   "metadata": {},
   "outputs": [
    {
     "name": "stderr",
     "output_type": "stream",
     "text": [
      "/home/daniel/code/tensorflow/env/lib/python3.9/site-packages/tensorflow/python/keras/utils/generic_utils.py:494: CustomMaskWarning: Custom mask layers require a config and must override get_config. When loading, the custom mask layer must be passed to the custom_objects argument.\n",
      "  warnings.warn('Custom mask layers require a config and must override '\n"
     ]
    },
    {
     "name": "stdout",
     "output_type": "stream",
     "text": [
      "INFO:tensorflow:Assets written to: food_not_food_model_v1/assets\n"
     ]
    },
    {
     "name": "stderr",
     "output_type": "stream",
     "text": [
      "INFO:tensorflow:Assets written to: food_not_food_model_v1/assets\n"
     ]
    }
   ],
   "source": [
    "model_1.save(\"food_not_food_model_v1\")"
   ]
  },
  {
   "cell_type": "markdown",
   "metadata": {},
   "source": [
    "## Convert Model to TFLite for Deployment"
   ]
  },
  {
   "cell_type": "code",
   "execution_count": 63,
   "metadata": {},
   "outputs": [
    {
     "name": "stderr",
     "output_type": "stream",
     "text": [
      "WARNING:absl:Importing a function (__inference_block6d_expand_activation_layer_call_and_return_conditional_losses_213436) with ops with custom gradients. Will likely fail if a gradient is requested.\n",
      "WARNING:absl:Importing a function (__inference_efficientnetb0_layer_call_and_return_conditional_losses_189476) with ops with custom gradients. Will likely fail if a gradient is requested.\n",
      "WARNING:absl:Importing a function (__inference_block6c_activation_layer_call_and_return_conditional_losses_213146) with ops with custom gradients. Will likely fail if a gradient is requested.\n",
      "WARNING:absl:Importing a function (__inference_top_activation_layer_call_and_return_conditional_losses_214123) with ops with custom gradients. Will likely fail if a gradient is requested.\n",
      "WARNING:absl:Importing a function (__inference_block6d_activation_layer_call_and_return_conditional_losses_177432) with ops with custom gradients. Will likely fail if a gradient is requested.\n",
      "WARNING:absl:Importing a function (__inference_block4b_se_reduce_layer_call_and_return_conditional_losses_210715) with ops with custom gradients. Will likely fail if a gradient is requested.\n",
      "WARNING:absl:Importing a function (__inference_block6b_expand_activation_layer_call_and_return_conditional_losses_177098) with ops with custom gradients. Will likely fail if a gradient is requested.\n",
      "WARNING:absl:Importing a function (__inference_block6a_activation_layer_call_and_return_conditional_losses_212459) with ops with custom gradients. Will likely fail if a gradient is requested.\n",
      "WARNING:absl:Importing a function (__inference_stem_activation_layer_call_and_return_conditional_losses_208580) with ops with custom gradients. Will likely fail if a gradient is requested.\n",
      "WARNING:absl:Importing a function (__inference_block6b_se_reduce_layer_call_and_return_conditional_losses_212823) with ops with custom gradients. Will likely fail if a gradient is requested.\n",
      "WARNING:absl:Importing a function (__inference_block2a_activation_layer_call_and_return_conditional_losses_208977) with ops with custom gradients. Will likely fail if a gradient is requested.\n",
      "WARNING:absl:Importing a function (__inference_block3b_expand_activation_layer_call_and_return_conditional_losses_209907) with ops with custom gradients. Will likely fail if a gradient is requested.\n",
      "WARNING:absl:Importing a function (__inference_block2a_expand_activation_layer_call_and_return_conditional_losses_208900) with ops with custom gradients. Will likely fail if a gradient is requested.\n",
      "WARNING:absl:Importing a function (__inference_block5a_activation_layer_call_and_return_conditional_losses_176531) with ops with custom gradients. Will likely fail if a gradient is requested.\n",
      "WARNING:absl:Importing a function (__inference_block1a_activation_layer_call_and_return_conditional_losses_208657) with ops with custom gradients. Will likely fail if a gradient is requested.\n",
      "WARNING:absl:Importing a function (__inference_block6c_expand_activation_layer_call_and_return_conditional_losses_213069) with ops with custom gradients. Will likely fail if a gradient is requested.\n",
      "WARNING:absl:Importing a function (__inference_block2b_expand_activation_layer_call_and_return_conditional_losses_209220) with ops with custom gradients. Will likely fail if a gradient is requested.\n",
      "WARNING:absl:Importing a function (__inference_block3a_activation_layer_call_and_return_conditional_losses_209664) with ops with custom gradients. Will likely fail if a gradient is requested.\n",
      "WARNING:absl:Importing a function (__inference_EfficientNetB0-V1_layer_call_and_return_conditional_losses_197427) with ops with custom gradients. Will likely fail if a gradient is requested.\n",
      "WARNING:absl:Importing a function (__inference_efficientnetb0_layer_call_and_return_conditional_losses_206710) with ops with custom gradients. Will likely fail if a gradient is requested.\n",
      "WARNING:absl:Importing a function (__inference_EfficientNetB0-V1_layer_call_and_return_conditional_losses_199195) with ops with custom gradients. Will likely fail if a gradient is requested.\n",
      "WARNING:absl:Importing a function (__inference_block3a_expand_activation_layer_call_and_return_conditional_losses_209587) with ops with custom gradients. Will likely fail if a gradient is requested.\n",
      "WARNING:absl:Importing a function (__inference_block5a_expand_activation_layer_call_and_return_conditional_losses_176507) with ops with custom gradients. Will likely fail if a gradient is requested.\n",
      "WARNING:absl:Importing a function (__inference_block6d_se_reduce_layer_call_and_return_conditional_losses_213557) with ops with custom gradients. Will likely fail if a gradient is requested.\n",
      "WARNING:absl:Importing a function (__inference_block5b_activation_layer_call_and_return_conditional_losses_211725) with ops with custom gradients. Will likely fail if a gradient is requested.\n",
      "WARNING:absl:Importing a function (__inference_block1a_se_reduce_layer_call_and_return_conditional_losses_208701) with ops with custom gradients. Will likely fail if a gradient is requested.\n",
      "WARNING:absl:Importing a function (__inference_block4a_expand_activation_layer_call_and_return_conditional_losses_210274) with ops with custom gradients. Will likely fail if a gradient is requested.\n",
      "WARNING:absl:Importing a function (__inference_block7a_expand_activation_layer_call_and_return_conditional_losses_213803) with ops with custom gradients. Will likely fail if a gradient is requested.\n",
      "WARNING:absl:Importing a function (__inference_block3b_se_reduce_layer_call_and_return_conditional_losses_175960) with ops with custom gradients. Will likely fail if a gradient is requested.\n",
      "WARNING:absl:Importing a function (__inference_block3b_expand_activation_layer_call_and_return_conditional_losses_175901) with ops with custom gradients. Will likely fail if a gradient is requested.\n",
      "WARNING:absl:Importing a function (__inference_block7a_activation_layer_call_and_return_conditional_losses_213880) with ops with custom gradients. Will likely fail if a gradient is requested.\n",
      "WARNING:absl:Importing a function (__inference_block7a_se_reduce_layer_call_and_return_conditional_losses_177622) with ops with custom gradients. Will likely fail if a gradient is requested.\n",
      "WARNING:absl:Importing a function (__inference_block5a_se_reduce_layer_call_and_return_conditional_losses_176566) with ops with custom gradients. Will likely fail if a gradient is requested.\n",
      "WARNING:absl:Importing a function (__inference_block5c_expand_activation_layer_call_and_return_conditional_losses_176802) with ops with custom gradients. Will likely fail if a gradient is requested.\n",
      "WARNING:absl:Importing a function (__inference_block3b_se_reduce_layer_call_and_return_conditional_losses_210028) with ops with custom gradients. Will likely fail if a gradient is requested.\n",
      "WARNING:absl:Importing a function (__inference_block4a_expand_activation_layer_call_and_return_conditional_losses_176056) with ops with custom gradients. Will likely fail if a gradient is requested.\n",
      "WARNING:absl:Importing a function (__inference_block5b_se_reduce_layer_call_and_return_conditional_losses_176706) with ops with custom gradients. Will likely fail if a gradient is requested.\n",
      "WARNING:absl:Importing a function (__inference_block2a_se_reduce_layer_call_and_return_conditional_losses_175524) with ops with custom gradients. Will likely fail if a gradient is requested.\n",
      "WARNING:absl:Importing a function (__inference_block3b_activation_layer_call_and_return_conditional_losses_209984) with ops with custom gradients. Will likely fail if a gradient is requested.\n",
      "WARNING:absl:Importing a function (__inference_block1a_activation_layer_call_and_return_conditional_losses_175348) with ops with custom gradients. Will likely fail if a gradient is requested.\n",
      "WARNING:absl:Importing a function (__inference_block4b_activation_layer_call_and_return_conditional_losses_210671) with ops with custom gradients. Will likely fail if a gradient is requested.\n",
      "WARNING:absl:Importing a function (__inference_block6c_activation_layer_call_and_return_conditional_losses_177277) with ops with custom gradients. Will likely fail if a gradient is requested.\n",
      "WARNING:absl:Importing a function (__inference_block6d_activation_layer_call_and_return_conditional_losses_213513) with ops with custom gradients. Will likely fail if a gradient is requested.\n",
      "WARNING:absl:Importing a function (__inference_block3a_expand_activation_layer_call_and_return_conditional_losses_175760) with ops with custom gradients. Will likely fail if a gradient is requested.\n",
      "WARNING:absl:Importing a function (__inference_block4c_activation_layer_call_and_return_conditional_losses_211038) with ops with custom gradients. Will likely fail if a gradient is requested.\n",
      "WARNING:absl:Importing a function (__inference_block4a_se_reduce_layer_call_and_return_conditional_losses_210395) with ops with custom gradients. Will likely fail if a gradient is requested.\n",
      "WARNING:absl:Importing a function (__inference_efficientnetb0_layer_call_and_return_conditional_losses_205086) with ops with custom gradients. Will likely fail if a gradient is requested.\n",
      "WARNING:absl:Importing a function (__inference_block4c_activation_layer_call_and_return_conditional_losses_176376) with ops with custom gradients. Will likely fail if a gradient is requested.\n",
      "WARNING:absl:Importing a function (__inference_block2a_se_reduce_layer_call_and_return_conditional_losses_209021) with ops with custom gradients. Will likely fail if a gradient is requested.\n",
      "WARNING:absl:Importing a function (__inference_block7a_se_reduce_layer_call_and_return_conditional_losses_213924) with ops with custom gradients. Will likely fail if a gradient is requested.\n",
      "WARNING:absl:Importing a function (__inference_block6d_expand_activation_layer_call_and_return_conditional_losses_177408) with ops with custom gradients. Will likely fail if a gradient is requested.\n",
      "WARNING:absl:Importing a function (__inference_block2b_activation_layer_call_and_return_conditional_losses_175629) with ops with custom gradients. Will likely fail if a gradient is requested.\n",
      "WARNING:absl:Importing a function (__inference_block5c_se_reduce_layer_call_and_return_conditional_losses_176861) with ops with custom gradients. Will likely fail if a gradient is requested.\n",
      "WARNING:absl:Importing a function (__inference_block5c_activation_layer_call_and_return_conditional_losses_212092) with ops with custom gradients. Will likely fail if a gradient is requested.\n",
      "WARNING:absl:Importing a function (__inference_top_activation_layer_call_and_return_conditional_losses_177703) with ops with custom gradients. Will likely fail if a gradient is requested.\n",
      "WARNING:absl:Importing a function (__inference_block6a_se_reduce_layer_call_and_return_conditional_losses_212503) with ops with custom gradients. Will likely fail if a gradient is requested.\n",
      "WARNING:absl:Importing a function (__inference_block5c_activation_layer_call_and_return_conditional_losses_176826) with ops with custom gradients. Will likely fail if a gradient is requested.\n",
      "WARNING:absl:Importing a function (__inference_stem_activation_layer_call_and_return_conditional_losses_175324) with ops with custom gradients. Will likely fail if a gradient is requested.\n",
      "WARNING:absl:Importing a function (__inference_block1a_se_reduce_layer_call_and_return_conditional_losses_175383) with ops with custom gradients. Will likely fail if a gradient is requested.\n",
      "WARNING:absl:Importing a function (__inference_block4a_activation_layer_call_and_return_conditional_losses_210351) with ops with custom gradients. Will likely fail if a gradient is requested.\n",
      "WARNING:absl:Importing a function (__inference_block6b_activation_layer_call_and_return_conditional_losses_212779) with ops with custom gradients. Will likely fail if a gradient is requested.\n",
      "WARNING:absl:Importing a function (__inference_block4b_activation_layer_call_and_return_conditional_losses_176221) with ops with custom gradients. Will likely fail if a gradient is requested.\n",
      "WARNING:absl:Importing a function (__inference_block6c_se_reduce_layer_call_and_return_conditional_losses_213190) with ops with custom gradients. Will likely fail if a gradient is requested.\n",
      "WARNING:absl:Importing a function (__inference_block5c_expand_activation_layer_call_and_return_conditional_losses_212015) with ops with custom gradients. Will likely fail if a gradient is requested.\n",
      "WARNING:absl:Importing a function (__inference_block3a_se_reduce_layer_call_and_return_conditional_losses_175820) with ops with custom gradients. Will likely fail if a gradient is requested.\n",
      "WARNING:absl:Importing a function (__inference_block6a_activation_layer_call_and_return_conditional_losses_176982) with ops with custom gradients. Will likely fail if a gradient is requested.\n",
      "WARNING:absl:Importing a function (__inference_block4b_expand_activation_layer_call_and_return_conditional_losses_210594) with ops with custom gradients. Will likely fail if a gradient is requested.\n",
      "WARNING:absl:Importing a function (__inference_block5b_expand_activation_layer_call_and_return_conditional_losses_211648) with ops with custom gradients. Will likely fail if a gradient is requested.\n",
      "WARNING:absl:Importing a function (__inference_block4c_se_reduce_layer_call_and_return_conditional_losses_176411) with ops with custom gradients. Will likely fail if a gradient is requested.\n",
      "WARNING:absl:Importing a function (__inference_block2b_se_reduce_layer_call_and_return_conditional_losses_209341) with ops with custom gradients. Will likely fail if a gradient is requested.\n",
      "WARNING:absl:Importing a function (__inference_block5a_se_reduce_layer_call_and_return_conditional_losses_211449) with ops with custom gradients. Will likely fail if a gradient is requested.\n",
      "WARNING:absl:Importing a function (__inference_block2b_activation_layer_call_and_return_conditional_losses_209297) with ops with custom gradients. Will likely fail if a gradient is requested.\n",
      "WARNING:absl:Importing a function (__inference_block7a_expand_activation_layer_call_and_return_conditional_losses_177563) with ops with custom gradients. Will likely fail if a gradient is requested.\n",
      "WARNING:absl:Importing a function (__inference_block2a_activation_layer_call_and_return_conditional_losses_175489) with ops with custom gradients. Will likely fail if a gradient is requested.\n",
      "WARNING:absl:Importing a function (__inference_block6b_expand_activation_layer_call_and_return_conditional_losses_212702) with ops with custom gradients. Will likely fail if a gradient is requested.\n",
      "WARNING:absl:Importing a function (__inference_block2b_se_reduce_layer_call_and_return_conditional_losses_175664) with ops with custom gradients. Will likely fail if a gradient is requested.\n",
      "WARNING:absl:Importing a function (__inference_block6c_expand_activation_layer_call_and_return_conditional_losses_177253) with ops with custom gradients. Will likely fail if a gradient is requested.\n",
      "WARNING:absl:Importing a function (__inference__wrapped_model_168534) with ops with custom gradients. Will likely fail if a gradient is requested.\n",
      "WARNING:absl:Importing a function (__inference_block5c_se_reduce_layer_call_and_return_conditional_losses_212136) with ops with custom gradients. Will likely fail if a gradient is requested.\n",
      "WARNING:absl:Importing a function (__inference_block6c_se_reduce_layer_call_and_return_conditional_losses_177312) with ops with custom gradients. Will likely fail if a gradient is requested.\n",
      "WARNING:absl:Importing a function (__inference_block7a_activation_layer_call_and_return_conditional_losses_177587) with ops with custom gradients. Will likely fail if a gradient is requested.\n",
      "WARNING:absl:Importing a function (__inference_efficientnetb0_layer_call_and_return_conditional_losses_203327) with ops with custom gradients. Will likely fail if a gradient is requested.\n",
      "WARNING:absl:Importing a function (__inference_block3a_activation_layer_call_and_return_conditional_losses_175785) with ops with custom gradients. Will likely fail if a gradient is requested.\n",
      "WARNING:absl:Importing a function (__inference_block5b_se_reduce_layer_call_and_return_conditional_losses_211769) with ops with custom gradients. Will likely fail if a gradient is requested.\n",
      "WARNING:absl:Importing a function (__inference_block4c_se_reduce_layer_call_and_return_conditional_losses_211082) with ops with custom gradients. Will likely fail if a gradient is requested.\n",
      "WARNING:absl:Importing a function (__inference_block4b_se_reduce_layer_call_and_return_conditional_losses_176256) with ops with custom gradients. Will likely fail if a gradient is requested.\n",
      "WARNING:absl:Importing a function (__inference_block6b_activation_layer_call_and_return_conditional_losses_177122) with ops with custom gradients. Will likely fail if a gradient is requested.\n",
      "WARNING:absl:Importing a function (__inference_block4c_expand_activation_layer_call_and_return_conditional_losses_176352) with ops with custom gradients. Will likely fail if a gradient is requested.\n",
      "WARNING:absl:Importing a function (__inference_block4c_expand_activation_layer_call_and_return_conditional_losses_210961) with ops with custom gradients. Will likely fail if a gradient is requested.\n",
      "WARNING:absl:Importing a function (__inference_efficientnetb0_layer_call_and_return_conditional_losses_185806) with ops with custom gradients. Will likely fail if a gradient is requested.\n",
      "WARNING:absl:Importing a function (__inference_block6d_se_reduce_layer_call_and_return_conditional_losses_177467) with ops with custom gradients. Will likely fail if a gradient is requested.\n",
      "WARNING:absl:Importing a function (__inference_block6b_se_reduce_layer_call_and_return_conditional_losses_177157) with ops with custom gradients. Will likely fail if a gradient is requested.\n",
      "WARNING:absl:Importing a function (__inference_block6a_se_reduce_layer_call_and_return_conditional_losses_177017) with ops with custom gradients. Will likely fail if a gradient is requested.\n",
      "WARNING:absl:Importing a function (__inference_block5b_expand_activation_layer_call_and_return_conditional_losses_176647) with ops with custom gradients. Will likely fail if a gradient is requested.\n",
      "WARNING:absl:Importing a function (__inference_block6a_expand_activation_layer_call_and_return_conditional_losses_176957) with ops with custom gradients. Will likely fail if a gradient is requested.\n",
      "WARNING:absl:Importing a function (__inference_block5a_activation_layer_call_and_return_conditional_losses_211405) with ops with custom gradients. Will likely fail if a gradient is requested.\n",
      "WARNING:absl:Importing a function (__inference_block4a_se_reduce_layer_call_and_return_conditional_losses_176116) with ops with custom gradients. Will likely fail if a gradient is requested.\n",
      "WARNING:absl:Importing a function (__inference_block5b_activation_layer_call_and_return_conditional_losses_176671) with ops with custom gradients. Will likely fail if a gradient is requested.\n",
      "WARNING:absl:Importing a function (__inference_block2a_expand_activation_layer_call_and_return_conditional_losses_175464) with ops with custom gradients. Will likely fail if a gradient is requested.\n",
      "WARNING:absl:Importing a function (__inference_block2b_expand_activation_layer_call_and_return_conditional_losses_175605) with ops with custom gradients. Will likely fail if a gradient is requested.\n",
      "WARNING:absl:Importing a function (__inference_block6a_expand_activation_layer_call_and_return_conditional_losses_212382) with ops with custom gradients. Will likely fail if a gradient is requested.\n",
      "WARNING:absl:Importing a function (__inference_efficientnetb0_layer_call_and_return_conditional_losses_208469) with ops with custom gradients. Will likely fail if a gradient is requested.\n",
      "WARNING:absl:Importing a function (__inference_block4b_expand_activation_layer_call_and_return_conditional_losses_176197) with ops with custom gradients. Will likely fail if a gradient is requested.\n",
      "WARNING:absl:Importing a function (__inference_block3b_activation_layer_call_and_return_conditional_losses_175925) with ops with custom gradients. Will likely fail if a gradient is requested.\n",
      "WARNING:absl:Importing a function (__inference_block4a_activation_layer_call_and_return_conditional_losses_176081) with ops with custom gradients. Will likely fail if a gradient is requested.\n",
      "WARNING:absl:Importing a function (__inference_block5a_expand_activation_layer_call_and_return_conditional_losses_211328) with ops with custom gradients. Will likely fail if a gradient is requested.\n",
      "WARNING:absl:Importing a function (__inference_block3a_se_reduce_layer_call_and_return_conditional_losses_209708) with ops with custom gradients. Will likely fail if a gradient is requested.\n",
      "2021-11-06 15:46:56.481093: W tensorflow/compiler/mlir/lite/python/tf_tfl_flatbuffer_helpers.cc:345] Ignored output_format.\n",
      "2021-11-06 15:46:56.481119: W tensorflow/compiler/mlir/lite/python/tf_tfl_flatbuffer_helpers.cc:348] Ignored drop_control_dependency.\n",
      "2021-11-06 15:46:56.481122: W tensorflow/compiler/mlir/lite/python/tf_tfl_flatbuffer_helpers.cc:354] Ignored change_concat_input_ranges.\n",
      "2021-11-06 15:46:56.481284: I tensorflow/cc/saved_model/reader.cc:38] Reading SavedModel from: food_not_food_model_v1\n",
      "2021-11-06 15:46:56.520554: I tensorflow/cc/saved_model/reader.cc:90] Reading meta graph with tags { serve }\n",
      "2021-11-06 15:46:56.520567: I tensorflow/cc/saved_model/reader.cc:132] Reading SavedModel debug info (if present) from: food_not_food_model_v1\n",
      "2021-11-06 15:46:56.520604: I tensorflow/core/common_runtime/gpu/gpu_device.cc:1258] Device interconnect StreamExecutor with strength 1 edge matrix:\n",
      "2021-11-06 15:46:56.520608: I tensorflow/core/common_runtime/gpu/gpu_device.cc:1264]      \n",
      "2021-11-06 15:46:56.688949: I tensorflow/cc/saved_model/loader.cc:206] Restoring SavedModel bundle.\n",
      "2021-11-06 15:46:57.031445: I tensorflow/cc/saved_model/loader.cc:190] Running initialization op on SavedModel bundle at path: food_not_food_model_v1\n",
      "2021-11-06 15:46:57.181727: I tensorflow/cc/saved_model/loader.cc:277] SavedModel load for tags { serve }; Status: success: OK. Took 700444 microseconds.\n"
     ]
    }
   ],
   "source": [
    "# Convert the model\n",
    "saved_model_dir = \"food_not_food_model_v1\"\n",
    "converter = tf.lite.TFLiteConverter.from_saved_model(saved_model_dir) # path to the SavedModel directory\n",
    "tflite_model = converter.convert()\n",
    "\n",
    "# Save the model.\n",
    "with open('food_not_food_model_v1.tflite', 'wb') as f:\n",
    "  f.write(tflite_model)"
   ]
  },
  {
   "cell_type": "markdown",
   "metadata": {},
   "source": [
    "## Test run TFLite model"
   ]
  },
  {
   "cell_type": "code",
   "execution_count": 66,
   "metadata": {},
   "outputs": [
    {
     "name": "stdout",
     "output_type": "stream",
     "text": [
      "[[0.50539374]]\n"
     ]
    }
   ],
   "source": [
    "import numpy as np\n",
    "import tensorflow as tf\n",
    "\n",
    "# Load the TFLite model and allocate tensors.\n",
    "interpreter = tf.lite.Interpreter(model_path=\"food_not_food_model_v1.tflite\")\n",
    "interpreter.allocate_tensors()\n",
    "\n",
    "# Get input and output tensors.\n",
    "input_details = interpreter.get_input_details()\n",
    "output_details = interpreter.get_output_details()\n",
    "\n",
    "# Test the model on random input data.\n",
    "input_shape = input_details[0]['shape']\n",
    "input_data = np.array(np.random.random_sample(input_shape), dtype=np.float32)\n",
    "interpreter.set_tensor(input_details[0]['index'], input_data)\n",
    "\n",
    "interpreter.invoke()\n",
    "\n",
    "# The function `get_tensor()` returns a copy of the tensor data.\n",
    "# Use `tensor()` in order to get a pointer to the tensor.\n",
    "output_data = interpreter.get_tensor(output_details[0]['index'])\n",
    "print(output_data)"
   ]
  },
  {
   "cell_type": "code",
   "execution_count": 67,
   "metadata": {},
   "outputs": [
    {
     "data": {
      "text/plain": [
       "[{'name': 'serving_default_input_6:0',\n",
       "  'index': 0,\n",
       "  'shape': array([  1, 224, 224,   3], dtype=int32),\n",
       "  'shape_signature': array([ -1, 224, 224,   3], dtype=int32),\n",
       "  'dtype': numpy.float32,\n",
       "  'quantization': (0.0, 0),\n",
       "  'quantization_parameters': {'scales': array([], dtype=float32),\n",
       "   'zero_points': array([], dtype=int32),\n",
       "   'quantized_dimension': 0},\n",
       "  'sparsity_parameters': {}}]"
      ]
     },
     "execution_count": 67,
     "metadata": {},
     "output_type": "execute_result"
    }
   ],
   "source": [
    "input_details"
   ]
  },
  {
   "cell_type": "code",
   "execution_count": null,
   "metadata": {},
   "outputs": [],
   "source": []
  }
 ],
 "metadata": {
  "interpreter": {
   "hash": "31f2aee4e71d21fbe5cf8b01ff0e069b9275f58929596ceb00d14d90e3e16cd6"
  },
  "kernelspec": {
   "display_name": "Python 3.8.10 64-bit",
   "language": "python",
   "name": "python3"
  },
  "language_info": {
   "codemirror_mode": {
    "name": "ipython",
    "version": 3
   },
   "file_extension": ".py",
   "mimetype": "text/x-python",
   "name": "python",
   "nbconvert_exporter": "python",
   "pygments_lexer": "ipython3",
   "version": "3.9.7"
  },
  "orig_nbformat": 4
 },
 "nbformat": 4,
 "nbformat_minor": 2
}
